{
 "metadata": {
  "language_info": {
   "codemirror_mode": {
    "name": "ipython",
    "version": 3
   },
   "file_extension": ".py",
   "mimetype": "text/x-python",
   "name": "python",
   "nbconvert_exporter": "python",
   "pygments_lexer": "ipython3",
   "version": 3
  },
  "orig_nbformat": 2,
  "kernelspec": {
   "name": "python_defaultSpec_1595321273232",
   "display_name": "Python 3.7.7 64-bit ('tensorflow-envi': conda)"
  }
 },
 "nbformat": 4,
 "nbformat_minor": 2,
 "cells": [
  {
   "cell_type": "markdown",
   "metadata": {},
   "source": [
    "# Pretrained Embedding\n",
    "\n",
    "based on GloVe (https://nlp.stanford.edu/projects/glove/)"
   ]
  },
  {
   "cell_type": "code",
   "execution_count": 4,
   "metadata": {},
   "outputs": [],
   "source": [
    "import numpy as np\n",
    "import torch\n",
    "import torch.nn as nn\n",
    "import bcolz\n",
    "import pickle\n",
    "import os\n",
    "\n",
    "glove_path = './glove/'"
   ]
  },
  {
   "cell_type": "markdown",
   "metadata": {},
   "source": [
    "load the dataset, create a dictionary to index the words and list for the vector representation and safe them to disk for future uses.\n",
    "You need to download the dataset first from stanford (link above)"
   ]
  },
  {
   "cell_type": "code",
   "execution_count": 5,
   "metadata": {},
   "outputs": [],
   "source": [
    "if not (os.path.isfile(f'{glove_path}6B.50_words.pkl') or os.path.isfile(f'{glove_path}6B.50_words.pkl')):\n",
    "    words = []\n",
    "    idx = 0\n",
    "    word2idx = {}\n",
    "    vectors = bcolz.carray(np.zeros(1), rootdir=f'{glove_path}/6B.50.dat', mode='w')\n",
    "\n",
    "    with open(f'{glove_path}glove.6B.50d.txt', 'rb') as f:\n",
    "        for l in f:\n",
    "            line = l.decode().split()\n",
    "            word = line[0]\n",
    "            words.append(word)\n",
    "            word2idx[word] = idx\n",
    "            idx += 1\n",
    "            vect = np.array(line[1:]).astype(np.float)\n",
    "            vectors.append(vect)\n",
    "        \n",
    "    vectors = bcolz.carray(vectors[1:].reshape((400000, 50)), rootdir=f'{glove_path}/6B.50.dat', mode='w')\n",
    "    vectors.flush()\n",
    "    pickle.dump(words, open(f'{glove_path}6B.50_words.pkl', 'wb'))\n",
    "    pickle.dump(word2idx, open(f'{glove_path}6B.50_idx.pkl', 'wb'))"
   ]
  },
  {
   "cell_type": "markdown",
   "metadata": {},
   "source": [
    "load the the representations and create the glove dictionary to map words to their representations"
   ]
  },
  {
   "cell_type": "code",
   "execution_count": 6,
   "metadata": {},
   "outputs": [],
   "source": [
    "vectors = bcolz.open(f'{glove_path}6B.50.dat')[:]\n",
    "words = pickle.load(open(f'{glove_path}6B.50_words.pkl', 'rb'))\n",
    "word2idx = pickle.load(open(f'{glove_path}6B.50_idx.pkl', 'rb'))\n",
    "\n",
    "glove = {w: vectors[word2idx[w]] for w in words}"
   ]
  },
  {
   "cell_type": "code",
   "execution_count": 12,
   "metadata": {},
   "outputs": [
    {
     "output_type": "execute_result",
     "data": {
      "text/plain": "array([-1.3489  , -0.20604 , -0.32046 , -0.67097 ,  1.1553  ,  1.0243  ,\n       -0.43156 ,  0.43772 , -1.4715  , -0.42142 , -0.044698, -0.3108  ,\n        0.35697 ,  0.67002 , -0.25693 , -0.79017 ,  0.46394 ,  0.56398 ,\n       -0.33475 ,  0.81236 , -0.13521 ,  0.64613 ,  0.060852,  0.98611 ,\n        0.26751 , -2.5146  , -0.24537 , -0.886   , -0.49686 ,  1.9433  ,\n        1.4949  , -1.065   , -1.1965  , -0.22821 ,  0.26013 , -0.3287  ,\n       -0.75024 ,  0.35921 ,  0.21084 , -0.3669  ,  0.036128,  1.2239  ,\n       -0.59315 , -0.35667 , -0.40924 ,  0.058038, -1.4763  , -0.45297 ,\n        1.389   ,  0.0892  ])"
     },
     "metadata": {},
     "execution_count": 12
    }
   ],
   "source": [
    "print(glove['politician'])"
   ]
  },
  {
   "cell_type": "code",
   "execution_count": 13,
   "metadata": {},
   "outputs": [],
   "source": [
    "def glove_weights_matrix(target_vocab):\n",
    "    \"\"\"needs target_vocab as a list of words\"\"\"\n",
    "    matrix_len = len(target_vocab)\n",
    "    emb_dim = 50\n",
    "    weights_matrix = np.zeros((matrix_len, emb_dim))\n",
    "    words_found = 0\n",
    "    unknown_words = 0\n",
    "\n",
    "    for i, word in enumerate(target_vocab):\n",
    "        try: \n",
    "            weights_matrix[i] = glove[word]\n",
    "            words_found += 1\n",
    "        except KeyError:\n",
    "            weights_matrix[i] = np.random.normal(scale=0.6, size=(emb_dim, ))\n",
    "            unknown_words += 1\n",
    "\n",
    "    print(f'{unknown_words} unknown words where added as random vector')\n",
    "    return weights_matrix"
   ]
  }
 ]
}