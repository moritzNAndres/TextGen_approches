{
 "cells": [
  {
   "cell_type": "code",
   "execution_count": 1,
   "metadata": {
    "tags": []
   },
   "outputs": [
    {
     "output_type": "stream",
     "name": "stdout",
     "text": "pytorch using  cuda\n"
    }
   ],
   "source": [
    "import numpy as np\n",
    "import matplotlib.pyplot as plt\n",
    "from sklearn.model_selection import train_test_split\n",
    "from sklearn.utils import check_random_state\n",
    "import torch\n",
    "import torch.nn as nn\n",
    "import torch.nn.functional as F\n",
    "import torch.optim as optim\n",
    "from tensorflow.keras.preprocessing.text import Tokenizer\n",
    "import time\n",
    "\n",
    "device = torch.device(\"cuda\" if torch.cuda.is_available() else \"cpu\")\n",
    "print('pytorch using ', device.type)"
   ]
  },
  {
   "cell_type": "code",
   "execution_count": 82,
   "metadata": {},
   "outputs": [],
   "source": [
    "# hyperparameter\n",
    "\n",
    "max_words = 5000\n",
    "sentence_len = 20\n",
    "pred_len = 3\n",
    "train_len = sentence_len - pred_len\n",
    "\n",
    "epochs = 10\n",
    "batch_size = 2**10\n",
    "\n",
    "max_samples = int(5e6)\n"
   ]
  },
  {
   "cell_type": "markdown",
   "metadata": {},
   "source": [
    "## Data retrieval"
   ]
  },
  {
   "cell_type": "code",
   "execution_count": 83,
   "metadata": {},
   "outputs": [],
   "source": [
    "with open('processed_texts.csv', 'r', encoding='UTF-8') as file:\n",
    "    train_data = [line.strip('\\n') for line in file]\n",
    "\n",
    "# tokenize words in text\n",
    "tokenizer = Tokenizer(num_words=max_words)\n",
    "tokenizer.fit_on_texts(train_data)\n",
    "\n",
    "# sentences as word sequences with max_words or words in text if less\n",
    "sequences = tokenizer.texts_to_sequences(train_data)\n",
    "\n",
    "# Flatten the list of lists to apply sliding window\n",
    "text = [item for sublist in sequences for item in sublist]"
   ]
  },
  {
   "cell_type": "code",
   "execution_count": 84,
   "metadata": {
    "tags": []
   },
   "outputs": [
    {
     "output_type": "stream",
     "name": "stdout",
     "text": "available samples:  4740340\nNumber of training sentences:  2477\nNumber of training samples:  4740340\nvocab size: 5000\n"
    }
   ],
   "source": [
    "\n",
    "# Sliding window to generate train data\n",
    "seq = []\n",
    "for i in range(len(text)-sentence_len):\n",
    "    seq.append(text[i:i+sentence_len])\n",
    "\n",
    "# reduce length of seq for performance reasons and of cause test_set\n",
    "print('available samples: ', len(seq))\n",
    "seq = seq[:max_samples]\n",
    "\n",
    "# Reverse dictionary to decode tokenized sequences back to words\n",
    "reverse_word_map = dict(map(reversed, tokenizer.word_index.items()))\n",
    "\n",
    "# set data, label\n",
    "X = []\n",
    "y = []\n",
    "for i in seq:\n",
    "    X.append(i[:train_len])\n",
    "    y.append(i[-pred_len:])\n",
    "\n",
    "num_samples = len(y)\n",
    "\n",
    "X = np.array(X)\n",
    "y = np.array(y)\n",
    "\n",
    "words_in_text = len(tokenizer.word_index)\n",
    "vocab_size = words_in_text if words_in_text < max_words else max_words\n",
    "\n",
    "print('Number of training sentences: ', len(train_data))\n",
    "print('Number of training samples: ', num_samples)\n",
    "print(\"vocab size:\", vocab_size)"
   ]
  },
  {
   "cell_type": "code",
   "execution_count": 85,
   "metadata": {
    "tags": []
   },
   "outputs": [
    {
     "output_type": "stream",
     "name": "stdout",
     "text": "batches:  926\n"
    }
   ],
   "source": [
    "\n",
    "# split data\n",
    "X_train, X_valid, y_train, y_valid = train_test_split(X, y, test_size=.2)\n",
    "\n",
    "# setting type for device\n",
    "X_type = torch.cuda.LongTensor if device.type == 'cuda' else torch.LongTensor\n",
    "y_type = torch.cuda.LongTensor if device.type == 'cuda' else torch.LongTensor\n",
    "\n",
    "# create feature and targets tensor for train set.\n",
    "torch_X_train = torch.from_numpy(X_train).type(X_type)\n",
    "torch_y_train = torch.from_numpy(y_train).type(y_type)\n",
    "\n",
    "# create feature and targets tensor for valid set.\n",
    "torch_X_valid = torch.from_numpy(X_valid).type(X_type)\n",
    "torch_y_valid = torch.from_numpy(y_valid).type(y_type)\n",
    "\n",
    "# Pytorch train and valid sets\n",
    "train = torch.utils.data.TensorDataset(torch_X_train, torch_y_train)\n",
    "valid = torch.utils.data.TensorDataset(torch_X_valid, torch_y_valid)\n",
    "\n",
    "# data loader\n",
    "train_loader = torch.utils.data.DataLoader(train, batch_size=batch_size, shuffle=True)\n",
    "valid_loader = torch.utils.data.DataLoader(valid, batch_size=batch_size, shuffle=True)\n",
    "\n",
    "\n",
    "print('batches: ', len(valid_loader))"
   ]
  },
  {
   "cell_type": "code",
   "execution_count": 86,
   "metadata": {
    "tags": []
   },
   "outputs": [
    {
     "output_type": "stream",
     "name": "stdout",
     "text": "0.14MB per batch in device mem\n"
    }
   ],
   "source": [
    "print('{:.2f}MB per batch in device mem'.format(batch_size * X_train[0].size * 64 / 8 * 1e-6))"
   ]
  },
  {
   "cell_type": "markdown",
   "metadata": {},
   "source": [
    "## Model functions"
   ]
  },
  {
   "cell_type": "code",
   "execution_count": 79,
   "metadata": {},
   "outputs": [],
   "source": [
    "def train(model, criterion, optimizer, data_loader):\n",
    "    model.train()\n",
    "    correct = 0\n",
    "    batch_losses = 0\n",
    "    num_batches = len(data_loader) \n",
    "    \n",
    "    for X_batch, y_batch in data_loader:\n",
    "        \n",
    "        X_batch = X_batch.to(device)\n",
    "        y_batch = y_batch.to(device)\n",
    "        preds = model(X_batch)\n",
    "        loss = 0\n",
    "        for i in range(pred_len):\n",
    "            loss = loss + criterion(preds[:,i,:], y_batch[:,i])\n",
    "        loss.backward()\n",
    "        optimizer.zero_grad()\n",
    "        optimizer.step()\n",
    "\n",
    "        batch_losses += loss.item()\n",
    "        # Total correct predictions\n",
    "        correct_in_batch = 0\n",
    "        for i in range(pred_len): \n",
    "            predicted = torch.max(preds[:,i,:].data, 1)[1] \n",
    "            correct_in_batch += (predicted == y_batch[:,i]).sum()\n",
    "        correct_in_batch /= pred_len\n",
    "        correct += correct_in_batch\n",
    "    \n",
    "    # average loss and accuracies per epoch\n",
    "    loss = batch_losses / float(num_batches)\n",
    "    accu = correct / float(batch_size * num_batches)\n",
    "    \n",
    "    return loss, accu.cpu()\n",
    "\n",
    "\n",
    "def test(model, criterion, data_loader):\n",
    "    model.eval()\n",
    "    correct = 0\n",
    "    batch_losses = 0\n",
    "    num_batches = len(data_loader) \n",
    "\n",
    "    with torch.no_grad():\n",
    "        for X_batch, y_batch in data_loader:\n",
    "            \n",
    "            X_batch = X_batch.to(device)\n",
    "            y_batch = y_batch.to(device)\n",
    "            preds = model(X_batch)\n",
    "            loss = 0\n",
    "            for i in range(preds.shape[1]):\n",
    "                loss = loss + criterion(preds[:,i,:], y_batch[:,i])\n",
    "            \n",
    "            batch_losses += loss.item()\n",
    "            # Total correct predictions\n",
    "            correct_in_batch = 0\n",
    "            for i in range(pred_len): \n",
    "                predicted = torch.max(preds[:,i,:].data, 1)[1] \n",
    "                correct_in_batch += (predicted == y_batch[:,i]).sum()\n",
    "            correct_in_batch /= pred_len\n",
    "            correct += correct_in_batch\n",
    "    \n",
    "    # average loss and accuracies per epoch\n",
    "    loss = batch_losses  / float(num_batches)\n",
    "    accu = correct / float(batch_size * num_batches)\n",
    "    \n",
    "    return loss, accu.cpu()\n",
    "\n",
    "\n",
    "def fit(model, train_loader, valid_loader, optimizer, criterion, scheduler=None, save_model=True):\n",
    "    print(\"fitting model...\")\n",
    "    \n",
    "    train_eval = []\n",
    "    valid_eval = []\n",
    "    fit_start = time.time()\n",
    "\n",
    "    #iteration 0 (only testing initial model)\n",
    "    train_loss, train_accu = test(model, criterion, train_loader)\n",
    "    train_eval.append( (train_loss, train_accu) )\n",
    "    valid_loss, valid_accu = test(model, criterion, valid_loader)\n",
    "    valid_eval.append( (valid_loss, valid_accu) )\n",
    "    print('Epoch: 0')\n",
    "    print('Train:        Loss: {:.6f}   Accuracy: {:.2f}%  '.format(train_loss, train_accu * 100))\n",
    "    print('Validation:   Loss: {:.6f}   Accuracy: {:.2f}%\\n'.format(valid_loss , valid_accu * 100))\n",
    "\n",
    "    for epoch in range(epochs):\n",
    "        epoch_start = time.time()\n",
    "\n",
    "        train_loss, train_accu = train(model, criterion, optimizer, train_loader)\n",
    "        train_eval.append( (train_loss, train_accu) )\n",
    "        \n",
    "        valid_loss, valid_accu = test(model, criterion, valid_loader)\n",
    "        valid_eval.append( (valid_loss, valid_accu) )\n",
    "\n",
    "        if(scheduler != None): scheduler.step()  # update learning rate\n",
    "\n",
    "        print('Epoch: {},    duration: {:.2f}sec'.format(epoch + 1, time.time() - epoch_start))\n",
    "        print('Train:        Loss: {:.6f}   Accuracy: {:.2f}%  '.format(train_loss, train_accu * 100))\n",
    "        print('Validation:   Loss: {:.6f}   Accuracy: {:.2f}%\\n'.format(valid_loss , valid_accu * 100))\n",
    "\n",
    "    d = time.gmtime(time.time() - fit_start)\n",
    "    print('duration of fitting: {:2d}h {:2d}min {:2d}sec'.format(d.tm_hour, d.tm_min, d.tm_sec))\n",
    "\n",
    "    # save model\n",
    "    if save_model:\n",
    "        path = './models/' + model.__class__.__name__ + '.pth'\n",
    "        torch.save(model, path)\n",
    "\n",
    "    return np.array(train_eval), np.array(valid_eval)\n",
    "\n",
    "\n",
    "def plot_eval(train_eval, valid_eval):\n",
    "\n",
    "    train_losses = train_eval[:, 0]\n",
    "    train_accus  = train_eval[:, 1]\n",
    "    valid_losses = valid_eval[:, 0]\n",
    "    valid_accus  = valid_eval[:, 1]\n",
    "    min_loss_idx = np.argmin(valid_losses)\n",
    "    max_accu_idx = np.argmax(valid_accus)\n",
    "\n",
    "    plt.figure(figsize=(12,4))\n",
    "    plt.subplot(121)\n",
    "    plt.plot(train_losses, label=\"train\")\n",
    "    plt.plot(valid_losses, label=\"validation\")\n",
    "    plt.scatter(min_loss_idx, valid_losses[min_loss_idx], c='r', label=\"minimum\")\n",
    "    plt.title(\"evaluation of losses\")\n",
    "    plt.xlabel(\"epochs\")\n",
    "    plt.legend()\n",
    "    plt.subplot(122)\n",
    "    plt.plot(train_accus, label=\"train\")\n",
    "    plt.plot(valid_accus, label=\"validation\")\n",
    "    plt.scatter(max_accu_idx, valid_accus[max_accu_idx], c='r', label=\"maximum\")\n",
    "    plt.title(\"evaluation of accuracy\")\n",
    "    plt.xlabel(\"epochs\")\n",
    "    plt.legend()\n",
    "    plt.show()\n",
    "\n",
    "\n",
    "def save_eval_data(model, train_eval, valid_eval):\n",
    "    data = np.array([train_eval, valid_eval])\n",
    "    path = './models/evalutation_' + model.__class__.__name__\n",
    "    numpy.savetxt(path, data, delimiter=\",\")"
   ]
  },
  {
   "cell_type": "markdown",
   "metadata": {},
   "source": [
    "## Models"
   ]
  },
  {
   "cell_type": "code",
   "execution_count": 71,
   "metadata": {},
   "outputs": [
    {
     "output_type": "execute_result",
     "data": {
      "text/plain": "Model1(\n  (embed): Embedding(5001, 50, padding_idx=18)\n  (rnn): LSTM(50, 100, num_layers=2)\n  (dense1): Linear(in_features=100, out_features=100, bias=True)\n  (dense2): Linear(in_features=100, out_features=5000, bias=True)\n)"
     },
     "metadata": {},
     "execution_count": 71
    }
   ],
   "source": [
    "learning_rate = 0.02\n",
    "m1_embedding_dim=50\n",
    "m1_lstm_hidden = 100\n",
    "m1_dense_features = 100\n",
    "m1_dropout = 0.3\n",
    "\n",
    "class Model1(nn.Module):\n",
    "    \n",
    "    def __init__(self):\n",
    "        super(Model1, self).__init__()\n",
    "        self.embed = nn.Embedding(  num_embeddings=vocab_size + 1, \n",
    "                                    embedding_dim=m1_embedding_dim, \n",
    "                                    padding_idx=train_len)\n",
    "        self.rnn = nn.LSTM(input_size=m1_embedding_dim, \n",
    "                            hidden_size=m1_lstm_hidden, \n",
    "                            num_layers=2)\n",
    "        self.dense1 = nn.Linear(in_features=m1_lstm_hidden, \n",
    "                                out_features=m1_dense_features)\n",
    "        self.dense2 = nn.Linear(in_features=m1_dense_features, \n",
    "                                out_features=vocab_size)\n",
    "    \n",
    "    def forward(self, x):\n",
    "        x = self.embed(x)\n",
    "        x, _ = self.rnn(x)  # _ = (h, c)\n",
    "        x = x[:,-pred_len:,:]  # get pred_len last steps of output\n",
    "        x = F.relu( self.dense1(x) )\n",
    "        x = F.dropout(x, p=m1_dropout)\n",
    "        x = self.dense2(x)\n",
    "        # x = F.log_softmax(x)  # this step is part of CrossEntropyLoss\n",
    "        return x\n",
    "\n",
    "\n",
    "model1 = Model1().to(device)\n",
    "optimizer1 = optim.Adam(model1.parameters(), lr=learning_rate)\n",
    "\n",
    "model1"
   ]
  },
  {
   "cell_type": "code",
   "execution_count": 89,
   "metadata": {},
   "outputs": [
    {
     "output_type": "execute_result",
     "data": {
      "text/plain": "Model2(\n  (embed): Embedding(5001, 50, padding_idx=17)\n  (rnn): GRU(50, 100, num_layers=3)\n  (dense1): Linear(in_features=100, out_features=100, bias=True)\n  (dense2): Linear(in_features=100, out_features=5000, bias=True)\n)"
     },
     "metadata": {},
     "execution_count": 89
    }
   ],
   "source": [
    "learning_rate = 0.02\n",
    "m2_embedding_dim=50\n",
    "m2_gru_hidden = 100\n",
    "m2_dense_features = 100\n",
    "m2_dropout = 0.3\n",
    "\n",
    "class Model2(nn.Module):\n",
    "    \n",
    "    def __init__(self):\n",
    "        super(Model2, self).__init__()\n",
    "        self.embed = nn.Embedding(  num_embeddings=vocab_size + 1, \n",
    "                                    embedding_dim=m2_embedding_dim, \n",
    "                                    padding_idx=train_len)\n",
    "        self.rnn = nn.GRU(input_size=m1_embedding_dim, \n",
    "                            hidden_size=m2_gru_hidden, \n",
    "                            num_layers=3)\n",
    "        self.dense1 = nn.Linear(in_features=m2_gru_hidden, \n",
    "                                out_features=m2_dense_features)\n",
    "        self.dense2 = nn.Linear(in_features=m2_dense_features, \n",
    "                                out_features=vocab_size)\n",
    "    \n",
    "    def forward(self, x):\n",
    "        x = self.embed(x)\n",
    "        x, _ = self.rnn(x)  # _ = (h, c)\n",
    "        x = x[:,-pred_len:,:]  # get last steps of output\n",
    "        x = F.relu( self.dense1(x) )\n",
    "        x = F.dropout(x, p=m1_dropout)\n",
    "        x = self.dense2(x)\n",
    "        # x = F.log_softmax(x)  # this step is part of CrossEntropyLoss\n",
    "        return x\n",
    "\n",
    "\n",
    "model2 = Model2().to(device)\n",
    "optimizer2 = optim.Adam(model2.parameters(), lr=learning_rate)\n",
    "\n",
    "model2"
   ]
  },
  {
   "cell_type": "code",
   "execution_count": 90,
   "metadata": {},
   "outputs": [
    {
     "output_type": "execute_result",
     "data": {
      "text/plain": "Model3(\n  (embed): Embedding(5001, 50, padding_idx=17)\n  (rnn): LSTM(50, 40, num_layers=3, dropout=0.1)\n  (dense1): Linear(in_features=40, out_features=100, bias=True)\n  (dense2): Linear(in_features=100, out_features=5000, bias=True)\n)"
     },
     "metadata": {},
     "execution_count": 90
    }
   ],
   "source": [
    "learning_rate = 0.06\n",
    "m3_embedding_dim=50\n",
    "m3_lstm_hidden = 40\n",
    "m3_lstm_dropout = 0.1\n",
    "m3_dense_features = 100\n",
    "m3_dropout = 0.3\n",
    "\n",
    "class Model3(nn.Module):\n",
    "    \n",
    "    def __init__(self):\n",
    "        super(Model3, self).__init__()\n",
    "        self.embed = nn.Embedding(  num_embeddings=vocab_size + 1, \n",
    "                                    embedding_dim=m3_embedding_dim, \n",
    "                                    padding_idx=train_len)\n",
    "        self.rnn = nn.LSTM(input_size=m3_embedding_dim, \n",
    "                            hidden_size=m3_lstm_hidden, \n",
    "                            num_layers=3,\n",
    "                            dropout=m3_lstm_dropout)\n",
    "        self.dense1 = nn.Linear(in_features=m3_lstm_hidden, \n",
    "                                out_features=m3_dense_features)\n",
    "        self.dense2 = nn.Linear(in_features=m3_dense_features, \n",
    "                                out_features=vocab_size)\n",
    "    \n",
    "    def forward(self, x):\n",
    "        x = self.embed(x)\n",
    "        x, _ = self.rnn(x)  # _ = (h, c)\n",
    "        x = x[:,-pred_len:,:]  # get last steps of output\n",
    "        x = F.relu( self.dense1(x) )\n",
    "        x = F.dropout(x, p=m1_dropout)\n",
    "        x = self.dense2(x)\n",
    "        # x = F.log_softmax(x)  # this step is part of CrossEntropyLoss\n",
    "        return x\n",
    "\n",
    "\n",
    "model3 = Model3().to(device)\n",
    "optimizer3 = optim.Adam(model3.parameters(), lr=learning_rate)\n",
    "scheduler3 = None  # optim.lr_scheduler.MultiplicativeLR(optimizer3, lambda epoch: 0.95)\n",
    "\n",
    "model3"
   ]
  },
  {
   "cell_type": "markdown",
   "metadata": {},
   "source": [
    "## fitting & evaluation"
   ]
  },
  {
   "cell_type": "code",
   "execution_count": 69,
   "metadata": {},
   "outputs": [],
   "source": [
    "criterion = nn.CrossEntropyLoss().to(device) "
   ]
  },
  {
   "cell_type": "code",
   "execution_count": 91,
   "metadata": {
    "tags": []
   },
   "outputs": [
    {
     "output_type": "stream",
     "name": "stdout",
     "text": "fitting model...\nEpoch: 0\nTrain:        Loss: 25.570914   Accuracy: 0.00%  \nValidation:   Loss: 25.570851   Accuracy: 0.00%\n\n"
    },
    {
     "output_type": "error",
     "ename": "TypeError",
     "evalue": "'TensorDataset' object is not callable",
     "traceback": [
      "\u001b[1;31m---------------------------------------------------------------------------\u001b[0m",
      "\u001b[1;31mTypeError\u001b[0m                                 Traceback (most recent call last)",
      "\u001b[1;32m<ipython-input-91-626d3b8f3119>\u001b[0m in \u001b[0;36m<module>\u001b[1;34m\u001b[0m\n\u001b[1;32m----> 1\u001b[1;33m \u001b[0meval_train1\u001b[0m\u001b[1;33m,\u001b[0m \u001b[0meval_valid1\u001b[0m \u001b[1;33m=\u001b[0m \u001b[0mfit\u001b[0m\u001b[1;33m(\u001b[0m\u001b[0mmodel1\u001b[0m\u001b[1;33m,\u001b[0m \u001b[0mtrain_loader\u001b[0m\u001b[1;33m,\u001b[0m \u001b[0mvalid_loader\u001b[0m\u001b[1;33m,\u001b[0m \u001b[0moptimizer1\u001b[0m\u001b[1;33m,\u001b[0m \u001b[0mcriterion\u001b[0m\u001b[1;33m,\u001b[0m \u001b[0msave_model\u001b[0m\u001b[1;33m=\u001b[0m\u001b[1;32mFalse\u001b[0m\u001b[1;33m)\u001b[0m\u001b[1;33m\u001b[0m\u001b[1;33m\u001b[0m\u001b[0m\n\u001b[0m\u001b[0;32m      2\u001b[0m \u001b[0mplot_eval\u001b[0m\u001b[1;33m(\u001b[0m\u001b[0meval_train1\u001b[0m\u001b[1;33m,\u001b[0m \u001b[0meval_valid1\u001b[0m\u001b[1;33m)\u001b[0m\u001b[1;33m\u001b[0m\u001b[1;33m\u001b[0m\u001b[0m\n",
      "\u001b[1;32m<ipython-input-79-9676c2e51819>\u001b[0m in \u001b[0;36mfit\u001b[1;34m(model, train_loader, valid_loader, optimizer, criterion, scheduler, save_model)\u001b[0m\n\u001b[0;32m     84\u001b[0m         \u001b[0mepoch_start\u001b[0m \u001b[1;33m=\u001b[0m \u001b[0mtime\u001b[0m\u001b[1;33m.\u001b[0m\u001b[0mtime\u001b[0m\u001b[1;33m(\u001b[0m\u001b[1;33m)\u001b[0m\u001b[1;33m\u001b[0m\u001b[1;33m\u001b[0m\u001b[0m\n\u001b[0;32m     85\u001b[0m \u001b[1;33m\u001b[0m\u001b[0m\n\u001b[1;32m---> 86\u001b[1;33m         \u001b[0mtrain_loss\u001b[0m\u001b[1;33m,\u001b[0m \u001b[0mtrain_accu\u001b[0m \u001b[1;33m=\u001b[0m \u001b[0mtrain\u001b[0m\u001b[1;33m(\u001b[0m\u001b[0mmodel\u001b[0m\u001b[1;33m,\u001b[0m \u001b[0mcriterion\u001b[0m\u001b[1;33m,\u001b[0m \u001b[0moptimizer\u001b[0m\u001b[1;33m,\u001b[0m \u001b[0mtrain_loader\u001b[0m\u001b[1;33m)\u001b[0m\u001b[1;33m\u001b[0m\u001b[1;33m\u001b[0m\u001b[0m\n\u001b[0m\u001b[0;32m     87\u001b[0m         \u001b[0mtrain_eval\u001b[0m\u001b[1;33m.\u001b[0m\u001b[0mappend\u001b[0m\u001b[1;33m(\u001b[0m \u001b[1;33m(\u001b[0m\u001b[0mtrain_loss\u001b[0m\u001b[1;33m,\u001b[0m \u001b[0mtrain_accu\u001b[0m\u001b[1;33m)\u001b[0m \u001b[1;33m)\u001b[0m\u001b[1;33m\u001b[0m\u001b[1;33m\u001b[0m\u001b[0m\n\u001b[0;32m     88\u001b[0m \u001b[1;33m\u001b[0m\u001b[0m\n",
      "\u001b[1;31mTypeError\u001b[0m: 'TensorDataset' object is not callable"
     ]
    }
   ],
   "source": [
    "eval_train1, eval_valid1 = fit(model1, train_loader, valid_loader, optimizer1, criterion, save_model=True)\n",
    "plot_eval(eval_train1, eval_valid1)"
   ]
  },
  {
   "cell_type": "code",
   "execution_count": 14,
   "metadata": {
    "tags": []
   },
   "outputs": [],
   "source": [
    "# eval_train2, eval_valid2 = fit(model2, train_loader, valid_loader, optimizer2, criterion)\n",
    "# plot_eval(eval_train2, eval_valid2)"
   ]
  },
  {
   "cell_type": "code",
   "execution_count": 26,
   "metadata": {
    "tags": []
   },
   "outputs": [
    {
     "output_type": "stream",
     "name": "stdout",
     "text": "fitting model...\nEpoch: 0\nTrain:        Loss: 8.520313   Accuracy: 0.02%  \nValidation:   Loss: 8.520043   Accuracy: 0.02%\n\nEpoch: 1,    duration: 563.14sec\nTrain:        Loss: 5.879363   Accuracy: 7.94%  \nValidation:   Loss: 5.701840   Accuracy: 9.40%\n\nEpoch: 2,    duration: 572.05sec\nTrain:        Loss: 5.702647   Accuracy: 9.76%  \nValidation:   Loss: 5.658384   Accuracy: 10.24%\n\nEpoch: 3,    duration: 565.53sec\nTrain:        Loss: 5.683976   Accuracy: 9.96%  \nValidation:   Loss: 5.650704   Accuracy: 10.25%\n\nEpoch: 4,    duration: 593.09sec\nTrain:        Loss: 5.680744   Accuracy: 9.94%  \nValidation:   Loss: 5.649261   Accuracy: 10.14%\n\nEpoch: 5,    duration: 559.01sec\nTrain:        Loss: 5.679112   Accuracy: 9.95%  \nValidation:   Loss: 5.651936   Accuracy: 10.21%\n\nEpoch: 6,    duration: 541.84sec\nTrain:        Loss: 5.684149   Accuracy: 9.91%  \nValidation:   Loss: 5.651196   Accuracy: 10.37%\n\nEpoch: 7,    duration: 542.08sec\nTrain:        Loss: 5.684147   Accuracy: 9.89%  \nValidation:   Loss: 5.651613   Accuracy: 10.08%\n\nEpoch: 8,    duration: 542.33sec\nTrain:        Loss: 5.684675   Accuracy: 9.79%  \nValidation:   Loss: 5.650929   Accuracy: 10.14%\n\nEpoch: 9,    duration: 542.03sec\nTrain:        Loss: 5.683917   Accuracy: 9.78%  \nValidation:   Loss: 5.656628   Accuracy: 10.09%\n\nEpoch: 10,    duration: 542.40sec\nTrain:        Loss: 5.692455   Accuracy: 9.70%  \nValidation:   Loss: 5.671186   Accuracy: 10.01%\n\nduration of fitting:  1h 36min 45sec\n"
    },
    {
     "output_type": "display_data",
     "data": {
      "text/plain": "<Figure size 864x288 with 2 Axes>",
      "image/svg+xml": "<?xml version=\"1.0\" encoding=\"utf-8\" standalone=\"no\"?>\r\n<!DOCTYPE svg PUBLIC \"-//W3C//DTD SVG 1.1//EN\"\r\n  \"http://www.w3.org/Graphics/SVG/1.1/DTD/svg11.dtd\">\r\n<!-- Created with matplotlib (https://matplotlib.org/) -->\r\n<svg height=\"277.314375pt\" version=\"1.1\" viewBox=\"0 0 706.903125 277.314375\" width=\"706.903125pt\" xmlns=\"http://www.w3.org/2000/svg\" xmlns:xlink=\"http://www.w3.org/1999/xlink\">\r\n <defs>\r\n  <style type=\"text/css\">\r\n*{stroke-linecap:butt;stroke-linejoin:round;}\r\n  </style>\r\n </defs>\r\n <g id=\"figure_1\">\r\n  <g id=\"patch_1\">\r\n   <path d=\"M 0 277.314375 \r\nL 706.903125 277.314375 \r\nL 706.903125 0 \r\nL 0 0 \r\nz\r\n\" style=\"fill:none;\"/>\r\n  </g>\r\n  <g id=\"axes_1\">\r\n   <g id=\"patch_2\">\r\n    <path d=\"M 30.103125 239.758125 \r\nL 334.466761 239.758125 \r\nL 334.466761 22.318125 \r\nL 30.103125 22.318125 \r\nz\r\n\" style=\"fill:#ffffff;\"/>\r\n   </g>\r\n   <g id=\"PathCollection_1\">\r\n    <defs>\r\n     <path d=\"M 0 3 \r\nC 0.795609 3 1.55874 2.683901 2.12132 2.12132 \r\nC 2.683901 1.55874 3 0.795609 3 0 \r\nC 3 -0.795609 2.683901 -1.55874 2.12132 -2.12132 \r\nC 1.55874 -2.683901 0.795609 -3 0 -3 \r\nC -0.795609 -3 -1.55874 -2.683901 -2.12132 -2.12132 \r\nC -2.683901 -1.55874 -3 -0.795609 -3 0 \r\nC -3 0.795609 -2.683901 1.55874 -2.12132 2.12132 \r\nC -1.55874 2.683901 -0.795609 3 0 3 \r\nz\r\n\" id=\"m61c8259b3e\" style=\"stroke:#ff0000;\"/>\r\n    </defs>\r\n    <g clip-path=\"url(#p802d7e824a)\">\r\n     <use style=\"fill:#ff0000;stroke:#ff0000;\" x=\"154.615522\" xlink:href=\"#m61c8259b3e\" y=\"229.874489\"/>\r\n    </g>\r\n   </g>\r\n   <g id=\"matplotlib.axis_1\">\r\n    <g id=\"xtick_1\">\r\n     <g id=\"line2d_1\">\r\n      <defs>\r\n       <path d=\"M 0 0 \r\nL 0 3.5 \r\n\" id=\"m4be9e86d96\" style=\"stroke:#000000;stroke-width:0.8;\"/>\r\n      </defs>\r\n      <g>\r\n       <use style=\"stroke:#000000;stroke-width:0.8;\" x=\"43.937836\" xlink:href=\"#m4be9e86d96\" y=\"239.758125\"/>\r\n      </g>\r\n     </g>\r\n     <g id=\"text_1\">\r\n      <!-- 0 -->\r\n      <defs>\r\n       <path d=\"M 31.78125 66.40625 \r\nQ 24.171875 66.40625 20.328125 58.90625 \r\nQ 16.5 51.421875 16.5 36.375 \r\nQ 16.5 21.390625 20.328125 13.890625 \r\nQ 24.171875 6.390625 31.78125 6.390625 \r\nQ 39.453125 6.390625 43.28125 13.890625 \r\nQ 47.125 21.390625 47.125 36.375 \r\nQ 47.125 51.421875 43.28125 58.90625 \r\nQ 39.453125 66.40625 31.78125 66.40625 \r\nz\r\nM 31.78125 74.21875 \r\nQ 44.046875 74.21875 50.515625 64.515625 \r\nQ 56.984375 54.828125 56.984375 36.375 \r\nQ 56.984375 17.96875 50.515625 8.265625 \r\nQ 44.046875 -1.421875 31.78125 -1.421875 \r\nQ 19.53125 -1.421875 13.0625 8.265625 \r\nQ 6.59375 17.96875 6.59375 36.375 \r\nQ 6.59375 54.828125 13.0625 64.515625 \r\nQ 19.53125 74.21875 31.78125 74.21875 \r\nz\r\n\" id=\"DejaVuSans-48\"/>\r\n      </defs>\r\n      <g transform=\"translate(40.756586 254.356562)scale(0.1 -0.1)\">\r\n       <use xlink:href=\"#DejaVuSans-48\"/>\r\n      </g>\r\n     </g>\r\n    </g>\r\n    <g id=\"xtick_2\">\r\n     <g id=\"line2d_2\">\r\n      <g>\r\n       <use style=\"stroke:#000000;stroke-width:0.8;\" x=\"99.276679\" xlink:href=\"#m4be9e86d96\" y=\"239.758125\"/>\r\n      </g>\r\n     </g>\r\n     <g id=\"text_2\">\r\n      <!-- 2 -->\r\n      <defs>\r\n       <path d=\"M 19.1875 8.296875 \r\nL 53.609375 8.296875 \r\nL 53.609375 0 \r\nL 7.328125 0 \r\nL 7.328125 8.296875 \r\nQ 12.9375 14.109375 22.625 23.890625 \r\nQ 32.328125 33.6875 34.8125 36.53125 \r\nQ 39.546875 41.84375 41.421875 45.53125 \r\nQ 43.3125 49.21875 43.3125 52.78125 \r\nQ 43.3125 58.59375 39.234375 62.25 \r\nQ 35.15625 65.921875 28.609375 65.921875 \r\nQ 23.96875 65.921875 18.8125 64.3125 \r\nQ 13.671875 62.703125 7.8125 59.421875 \r\nL 7.8125 69.390625 \r\nQ 13.765625 71.78125 18.9375 73 \r\nQ 24.125 74.21875 28.421875 74.21875 \r\nQ 39.75 74.21875 46.484375 68.546875 \r\nQ 53.21875 62.890625 53.21875 53.421875 \r\nQ 53.21875 48.921875 51.53125 44.890625 \r\nQ 49.859375 40.875 45.40625 35.40625 \r\nQ 44.1875 33.984375 37.640625 27.21875 \r\nQ 31.109375 20.453125 19.1875 8.296875 \r\nz\r\n\" id=\"DejaVuSans-50\"/>\r\n      </defs>\r\n      <g transform=\"translate(96.095429 254.356562)scale(0.1 -0.1)\">\r\n       <use xlink:href=\"#DejaVuSans-50\"/>\r\n      </g>\r\n     </g>\r\n    </g>\r\n    <g id=\"xtick_3\">\r\n     <g id=\"line2d_3\">\r\n      <g>\r\n       <use style=\"stroke:#000000;stroke-width:0.8;\" x=\"154.615522\" xlink:href=\"#m4be9e86d96\" y=\"239.758125\"/>\r\n      </g>\r\n     </g>\r\n     <g id=\"text_3\">\r\n      <!-- 4 -->\r\n      <defs>\r\n       <path d=\"M 37.796875 64.3125 \r\nL 12.890625 25.390625 \r\nL 37.796875 25.390625 \r\nz\r\nM 35.203125 72.90625 \r\nL 47.609375 72.90625 \r\nL 47.609375 25.390625 \r\nL 58.015625 25.390625 \r\nL 58.015625 17.1875 \r\nL 47.609375 17.1875 \r\nL 47.609375 0 \r\nL 37.796875 0 \r\nL 37.796875 17.1875 \r\nL 4.890625 17.1875 \r\nL 4.890625 26.703125 \r\nz\r\n\" id=\"DejaVuSans-52\"/>\r\n      </defs>\r\n      <g transform=\"translate(151.434272 254.356562)scale(0.1 -0.1)\">\r\n       <use xlink:href=\"#DejaVuSans-52\"/>\r\n      </g>\r\n     </g>\r\n    </g>\r\n    <g id=\"xtick_4\">\r\n     <g id=\"line2d_4\">\r\n      <g>\r\n       <use style=\"stroke:#000000;stroke-width:0.8;\" x=\"209.954365\" xlink:href=\"#m4be9e86d96\" y=\"239.758125\"/>\r\n      </g>\r\n     </g>\r\n     <g id=\"text_4\">\r\n      <!-- 6 -->\r\n      <defs>\r\n       <path d=\"M 33.015625 40.375 \r\nQ 26.375 40.375 22.484375 35.828125 \r\nQ 18.609375 31.296875 18.609375 23.390625 \r\nQ 18.609375 15.53125 22.484375 10.953125 \r\nQ 26.375 6.390625 33.015625 6.390625 \r\nQ 39.65625 6.390625 43.53125 10.953125 \r\nQ 47.40625 15.53125 47.40625 23.390625 \r\nQ 47.40625 31.296875 43.53125 35.828125 \r\nQ 39.65625 40.375 33.015625 40.375 \r\nz\r\nM 52.59375 71.296875 \r\nL 52.59375 62.3125 \r\nQ 48.875 64.0625 45.09375 64.984375 \r\nQ 41.3125 65.921875 37.59375 65.921875 \r\nQ 27.828125 65.921875 22.671875 59.328125 \r\nQ 17.53125 52.734375 16.796875 39.40625 \r\nQ 19.671875 43.65625 24.015625 45.921875 \r\nQ 28.375 48.1875 33.59375 48.1875 \r\nQ 44.578125 48.1875 50.953125 41.515625 \r\nQ 57.328125 34.859375 57.328125 23.390625 \r\nQ 57.328125 12.15625 50.6875 5.359375 \r\nQ 44.046875 -1.421875 33.015625 -1.421875 \r\nQ 20.359375 -1.421875 13.671875 8.265625 \r\nQ 6.984375 17.96875 6.984375 36.375 \r\nQ 6.984375 53.65625 15.1875 63.9375 \r\nQ 23.390625 74.21875 37.203125 74.21875 \r\nQ 40.921875 74.21875 44.703125 73.484375 \r\nQ 48.484375 72.75 52.59375 71.296875 \r\nz\r\n\" id=\"DejaVuSans-54\"/>\r\n      </defs>\r\n      <g transform=\"translate(206.773115 254.356562)scale(0.1 -0.1)\">\r\n       <use xlink:href=\"#DejaVuSans-54\"/>\r\n      </g>\r\n     </g>\r\n    </g>\r\n    <g id=\"xtick_5\">\r\n     <g id=\"line2d_5\">\r\n      <g>\r\n       <use style=\"stroke:#000000;stroke-width:0.8;\" x=\"265.293208\" xlink:href=\"#m4be9e86d96\" y=\"239.758125\"/>\r\n      </g>\r\n     </g>\r\n     <g id=\"text_5\">\r\n      <!-- 8 -->\r\n      <defs>\r\n       <path d=\"M 31.78125 34.625 \r\nQ 24.75 34.625 20.71875 30.859375 \r\nQ 16.703125 27.09375 16.703125 20.515625 \r\nQ 16.703125 13.921875 20.71875 10.15625 \r\nQ 24.75 6.390625 31.78125 6.390625 \r\nQ 38.8125 6.390625 42.859375 10.171875 \r\nQ 46.921875 13.96875 46.921875 20.515625 \r\nQ 46.921875 27.09375 42.890625 30.859375 \r\nQ 38.875 34.625 31.78125 34.625 \r\nz\r\nM 21.921875 38.8125 \r\nQ 15.578125 40.375 12.03125 44.71875 \r\nQ 8.5 49.078125 8.5 55.328125 \r\nQ 8.5 64.0625 14.71875 69.140625 \r\nQ 20.953125 74.21875 31.78125 74.21875 \r\nQ 42.671875 74.21875 48.875 69.140625 \r\nQ 55.078125 64.0625 55.078125 55.328125 \r\nQ 55.078125 49.078125 51.53125 44.71875 \r\nQ 48 40.375 41.703125 38.8125 \r\nQ 48.828125 37.15625 52.796875 32.3125 \r\nQ 56.78125 27.484375 56.78125 20.515625 \r\nQ 56.78125 9.90625 50.3125 4.234375 \r\nQ 43.84375 -1.421875 31.78125 -1.421875 \r\nQ 19.734375 -1.421875 13.25 4.234375 \r\nQ 6.78125 9.90625 6.78125 20.515625 \r\nQ 6.78125 27.484375 10.78125 32.3125 \r\nQ 14.796875 37.15625 21.921875 38.8125 \r\nz\r\nM 18.3125 54.390625 \r\nQ 18.3125 48.734375 21.84375 45.5625 \r\nQ 25.390625 42.390625 31.78125 42.390625 \r\nQ 38.140625 42.390625 41.71875 45.5625 \r\nQ 45.3125 48.734375 45.3125 54.390625 \r\nQ 45.3125 60.0625 41.71875 63.234375 \r\nQ 38.140625 66.40625 31.78125 66.40625 \r\nQ 25.390625 66.40625 21.84375 63.234375 \r\nQ 18.3125 60.0625 18.3125 54.390625 \r\nz\r\n\" id=\"DejaVuSans-56\"/>\r\n      </defs>\r\n      <g transform=\"translate(262.111958 254.356562)scale(0.1 -0.1)\">\r\n       <use xlink:href=\"#DejaVuSans-56\"/>\r\n      </g>\r\n     </g>\r\n    </g>\r\n    <g id=\"xtick_6\">\r\n     <g id=\"line2d_6\">\r\n      <g>\r\n       <use style=\"stroke:#000000;stroke-width:0.8;\" x=\"320.632051\" xlink:href=\"#m4be9e86d96\" y=\"239.758125\"/>\r\n      </g>\r\n     </g>\r\n     <g id=\"text_6\">\r\n      <!-- 10 -->\r\n      <defs>\r\n       <path d=\"M 12.40625 8.296875 \r\nL 28.515625 8.296875 \r\nL 28.515625 63.921875 \r\nL 10.984375 60.40625 \r\nL 10.984375 69.390625 \r\nL 28.421875 72.90625 \r\nL 38.28125 72.90625 \r\nL 38.28125 8.296875 \r\nL 54.390625 8.296875 \r\nL 54.390625 0 \r\nL 12.40625 0 \r\nz\r\n\" id=\"DejaVuSans-49\"/>\r\n      </defs>\r\n      <g transform=\"translate(314.269551 254.356562)scale(0.1 -0.1)\">\r\n       <use xlink:href=\"#DejaVuSans-49\"/>\r\n       <use x=\"63.623047\" xlink:href=\"#DejaVuSans-48\"/>\r\n      </g>\r\n     </g>\r\n    </g>\r\n    <g id=\"text_7\">\r\n     <!-- epochs -->\r\n     <defs>\r\n      <path d=\"M 56.203125 29.59375 \r\nL 56.203125 25.203125 \r\nL 14.890625 25.203125 \r\nQ 15.484375 15.921875 20.484375 11.0625 \r\nQ 25.484375 6.203125 34.421875 6.203125 \r\nQ 39.59375 6.203125 44.453125 7.46875 \r\nQ 49.3125 8.734375 54.109375 11.28125 \r\nL 54.109375 2.78125 \r\nQ 49.265625 0.734375 44.1875 -0.34375 \r\nQ 39.109375 -1.421875 33.890625 -1.421875 \r\nQ 20.796875 -1.421875 13.15625 6.1875 \r\nQ 5.515625 13.8125 5.515625 26.8125 \r\nQ 5.515625 40.234375 12.765625 48.109375 \r\nQ 20.015625 56 32.328125 56 \r\nQ 43.359375 56 49.78125 48.890625 \r\nQ 56.203125 41.796875 56.203125 29.59375 \r\nz\r\nM 47.21875 32.234375 \r\nQ 47.125 39.59375 43.09375 43.984375 \r\nQ 39.0625 48.390625 32.421875 48.390625 \r\nQ 24.90625 48.390625 20.390625 44.140625 \r\nQ 15.875 39.890625 15.1875 32.171875 \r\nz\r\n\" id=\"DejaVuSans-101\"/>\r\n      <path d=\"M 18.109375 8.203125 \r\nL 18.109375 -20.796875 \r\nL 9.078125 -20.796875 \r\nL 9.078125 54.6875 \r\nL 18.109375 54.6875 \r\nL 18.109375 46.390625 \r\nQ 20.953125 51.265625 25.265625 53.625 \r\nQ 29.59375 56 35.59375 56 \r\nQ 45.5625 56 51.78125 48.09375 \r\nQ 58.015625 40.1875 58.015625 27.296875 \r\nQ 58.015625 14.40625 51.78125 6.484375 \r\nQ 45.5625 -1.421875 35.59375 -1.421875 \r\nQ 29.59375 -1.421875 25.265625 0.953125 \r\nQ 20.953125 3.328125 18.109375 8.203125 \r\nz\r\nM 48.6875 27.296875 \r\nQ 48.6875 37.203125 44.609375 42.84375 \r\nQ 40.53125 48.484375 33.40625 48.484375 \r\nQ 26.265625 48.484375 22.1875 42.84375 \r\nQ 18.109375 37.203125 18.109375 27.296875 \r\nQ 18.109375 17.390625 22.1875 11.75 \r\nQ 26.265625 6.109375 33.40625 6.109375 \r\nQ 40.53125 6.109375 44.609375 11.75 \r\nQ 48.6875 17.390625 48.6875 27.296875 \r\nz\r\n\" id=\"DejaVuSans-112\"/>\r\n      <path d=\"M 30.609375 48.390625 \r\nQ 23.390625 48.390625 19.1875 42.75 \r\nQ 14.984375 37.109375 14.984375 27.296875 \r\nQ 14.984375 17.484375 19.15625 11.84375 \r\nQ 23.34375 6.203125 30.609375 6.203125 \r\nQ 37.796875 6.203125 41.984375 11.859375 \r\nQ 46.1875 17.53125 46.1875 27.296875 \r\nQ 46.1875 37.015625 41.984375 42.703125 \r\nQ 37.796875 48.390625 30.609375 48.390625 \r\nz\r\nM 30.609375 56 \r\nQ 42.328125 56 49.015625 48.375 \r\nQ 55.71875 40.765625 55.71875 27.296875 \r\nQ 55.71875 13.875 49.015625 6.21875 \r\nQ 42.328125 -1.421875 30.609375 -1.421875 \r\nQ 18.84375 -1.421875 12.171875 6.21875 \r\nQ 5.515625 13.875 5.515625 27.296875 \r\nQ 5.515625 40.765625 12.171875 48.375 \r\nQ 18.84375 56 30.609375 56 \r\nz\r\n\" id=\"DejaVuSans-111\"/>\r\n      <path d=\"M 48.78125 52.59375 \r\nL 48.78125 44.1875 \r\nQ 44.96875 46.296875 41.140625 47.34375 \r\nQ 37.3125 48.390625 33.40625 48.390625 \r\nQ 24.65625 48.390625 19.8125 42.84375 \r\nQ 14.984375 37.3125 14.984375 27.296875 \r\nQ 14.984375 17.28125 19.8125 11.734375 \r\nQ 24.65625 6.203125 33.40625 6.203125 \r\nQ 37.3125 6.203125 41.140625 7.25 \r\nQ 44.96875 8.296875 48.78125 10.40625 \r\nL 48.78125 2.09375 \r\nQ 45.015625 0.34375 40.984375 -0.53125 \r\nQ 36.96875 -1.421875 32.421875 -1.421875 \r\nQ 20.0625 -1.421875 12.78125 6.34375 \r\nQ 5.515625 14.109375 5.515625 27.296875 \r\nQ 5.515625 40.671875 12.859375 48.328125 \r\nQ 20.21875 56 33.015625 56 \r\nQ 37.15625 56 41.109375 55.140625 \r\nQ 45.0625 54.296875 48.78125 52.59375 \r\nz\r\n\" id=\"DejaVuSans-99\"/>\r\n      <path d=\"M 54.890625 33.015625 \r\nL 54.890625 0 \r\nL 45.90625 0 \r\nL 45.90625 32.71875 \r\nQ 45.90625 40.484375 42.875 44.328125 \r\nQ 39.84375 48.1875 33.796875 48.1875 \r\nQ 26.515625 48.1875 22.3125 43.546875 \r\nQ 18.109375 38.921875 18.109375 30.90625 \r\nL 18.109375 0 \r\nL 9.078125 0 \r\nL 9.078125 75.984375 \r\nL 18.109375 75.984375 \r\nL 18.109375 46.1875 \r\nQ 21.34375 51.125 25.703125 53.5625 \r\nQ 30.078125 56 35.796875 56 \r\nQ 45.21875 56 50.046875 50.171875 \r\nQ 54.890625 44.34375 54.890625 33.015625 \r\nz\r\n\" id=\"DejaVuSans-104\"/>\r\n      <path d=\"M 44.28125 53.078125 \r\nL 44.28125 44.578125 \r\nQ 40.484375 46.53125 36.375 47.5 \r\nQ 32.28125 48.484375 27.875 48.484375 \r\nQ 21.1875 48.484375 17.84375 46.4375 \r\nQ 14.5 44.390625 14.5 40.28125 \r\nQ 14.5 37.15625 16.890625 35.375 \r\nQ 19.28125 33.59375 26.515625 31.984375 \r\nL 29.59375 31.296875 \r\nQ 39.15625 29.25 43.1875 25.515625 \r\nQ 47.21875 21.78125 47.21875 15.09375 \r\nQ 47.21875 7.46875 41.1875 3.015625 \r\nQ 35.15625 -1.421875 24.609375 -1.421875 \r\nQ 20.21875 -1.421875 15.453125 -0.5625 \r\nQ 10.6875 0.296875 5.421875 2 \r\nL 5.421875 11.28125 \r\nQ 10.40625 8.6875 15.234375 7.390625 \r\nQ 20.0625 6.109375 24.8125 6.109375 \r\nQ 31.15625 6.109375 34.5625 8.28125 \r\nQ 37.984375 10.453125 37.984375 14.40625 \r\nQ 37.984375 18.0625 35.515625 20.015625 \r\nQ 33.0625 21.96875 24.703125 23.78125 \r\nL 21.578125 24.515625 \r\nQ 13.234375 26.265625 9.515625 29.90625 \r\nQ 5.8125 33.546875 5.8125 39.890625 \r\nQ 5.8125 47.609375 11.28125 51.796875 \r\nQ 16.75 56 26.8125 56 \r\nQ 31.78125 56 36.171875 55.265625 \r\nQ 40.578125 54.546875 44.28125 53.078125 \r\nz\r\n\" id=\"DejaVuSans-115\"/>\r\n     </defs>\r\n     <g transform=\"translate(164.452131 268.034687)scale(0.1 -0.1)\">\r\n      <use xlink:href=\"#DejaVuSans-101\"/>\r\n      <use x=\"61.523438\" xlink:href=\"#DejaVuSans-112\"/>\r\n      <use x=\"125\" xlink:href=\"#DejaVuSans-111\"/>\r\n      <use x=\"186.181641\" xlink:href=\"#DejaVuSans-99\"/>\r\n      <use x=\"241.162109\" xlink:href=\"#DejaVuSans-104\"/>\r\n      <use x=\"304.541016\" xlink:href=\"#DejaVuSans-115\"/>\r\n     </g>\r\n    </g>\r\n   </g>\r\n   <g id=\"matplotlib.axis_2\">\r\n    <g id=\"ytick_1\">\r\n     <g id=\"line2d_7\">\r\n      <defs>\r\n       <path d=\"M 0 0 \r\nL -3.5 0 \r\n\" id=\"md321b805d5\" style=\"stroke:#000000;stroke-width:0.8;\"/>\r\n      </defs>\r\n      <g>\r\n       <use style=\"stroke:#000000;stroke-width:0.8;\" x=\"30.103125\" xlink:href=\"#md321b805d5\" y=\"205.726006\"/>\r\n      </g>\r\n     </g>\r\n     <g id=\"text_8\">\r\n      <!-- 6.0 -->\r\n      <defs>\r\n       <path d=\"M 10.6875 12.40625 \r\nL 21 12.40625 \r\nL 21 0 \r\nL 10.6875 0 \r\nz\r\n\" id=\"DejaVuSans-46\"/>\r\n      </defs>\r\n      <g transform=\"translate(7.2 209.525225)scale(0.1 -0.1)\">\r\n       <use xlink:href=\"#DejaVuSans-54\"/>\r\n       <use x=\"63.623047\" xlink:href=\"#DejaVuSans-46\"/>\r\n       <use x=\"95.410156\" xlink:href=\"#DejaVuSans-48\"/>\r\n      </g>\r\n     </g>\r\n    </g>\r\n    <g id=\"ytick_2\">\r\n     <g id=\"line2d_8\">\r\n      <g>\r\n       <use style=\"stroke:#000000;stroke-width:0.8;\" x=\"30.103125\" xlink:href=\"#md321b805d5\" y=\"171.300865\"/>\r\n      </g>\r\n     </g>\r\n     <g id=\"text_9\">\r\n      <!-- 6.5 -->\r\n      <defs>\r\n       <path d=\"M 10.796875 72.90625 \r\nL 49.515625 72.90625 \r\nL 49.515625 64.59375 \r\nL 19.828125 64.59375 \r\nL 19.828125 46.734375 \r\nQ 21.96875 47.46875 24.109375 47.828125 \r\nQ 26.265625 48.1875 28.421875 48.1875 \r\nQ 40.625 48.1875 47.75 41.5 \r\nQ 54.890625 34.8125 54.890625 23.390625 \r\nQ 54.890625 11.625 47.5625 5.09375 \r\nQ 40.234375 -1.421875 26.90625 -1.421875 \r\nQ 22.3125 -1.421875 17.546875 -0.640625 \r\nQ 12.796875 0.140625 7.71875 1.703125 \r\nL 7.71875 11.625 \r\nQ 12.109375 9.234375 16.796875 8.0625 \r\nQ 21.484375 6.890625 26.703125 6.890625 \r\nQ 35.15625 6.890625 40.078125 11.328125 \r\nQ 45.015625 15.765625 45.015625 23.390625 \r\nQ 45.015625 31 40.078125 35.4375 \r\nQ 35.15625 39.890625 26.703125 39.890625 \r\nQ 22.75 39.890625 18.8125 39.015625 \r\nQ 14.890625 38.140625 10.796875 36.28125 \r\nz\r\n\" id=\"DejaVuSans-53\"/>\r\n      </defs>\r\n      <g transform=\"translate(7.2 175.100084)scale(0.1 -0.1)\">\r\n       <use xlink:href=\"#DejaVuSans-54\"/>\r\n       <use x=\"63.623047\" xlink:href=\"#DejaVuSans-46\"/>\r\n       <use x=\"95.410156\" xlink:href=\"#DejaVuSans-53\"/>\r\n      </g>\r\n     </g>\r\n    </g>\r\n    <g id=\"ytick_3\">\r\n     <g id=\"line2d_9\">\r\n      <g>\r\n       <use style=\"stroke:#000000;stroke-width:0.8;\" x=\"30.103125\" xlink:href=\"#md321b805d5\" y=\"136.875724\"/>\r\n      </g>\r\n     </g>\r\n     <g id=\"text_10\">\r\n      <!-- 7.0 -->\r\n      <defs>\r\n       <path d=\"M 8.203125 72.90625 \r\nL 55.078125 72.90625 \r\nL 55.078125 68.703125 \r\nL 28.609375 0 \r\nL 18.3125 0 \r\nL 43.21875 64.59375 \r\nL 8.203125 64.59375 \r\nz\r\n\" id=\"DejaVuSans-55\"/>\r\n      </defs>\r\n      <g transform=\"translate(7.2 140.674943)scale(0.1 -0.1)\">\r\n       <use xlink:href=\"#DejaVuSans-55\"/>\r\n       <use x=\"63.623047\" xlink:href=\"#DejaVuSans-46\"/>\r\n       <use x=\"95.410156\" xlink:href=\"#DejaVuSans-48\"/>\r\n      </g>\r\n     </g>\r\n    </g>\r\n    <g id=\"ytick_4\">\r\n     <g id=\"line2d_10\">\r\n      <g>\r\n       <use style=\"stroke:#000000;stroke-width:0.8;\" x=\"30.103125\" xlink:href=\"#md321b805d5\" y=\"102.450583\"/>\r\n      </g>\r\n     </g>\r\n     <g id=\"text_11\">\r\n      <!-- 7.5 -->\r\n      <g transform=\"translate(7.2 106.249802)scale(0.1 -0.1)\">\r\n       <use xlink:href=\"#DejaVuSans-55\"/>\r\n       <use x=\"63.623047\" xlink:href=\"#DejaVuSans-46\"/>\r\n       <use x=\"95.410156\" xlink:href=\"#DejaVuSans-53\"/>\r\n      </g>\r\n     </g>\r\n    </g>\r\n    <g id=\"ytick_5\">\r\n     <g id=\"line2d_11\">\r\n      <g>\r\n       <use style=\"stroke:#000000;stroke-width:0.8;\" x=\"30.103125\" xlink:href=\"#md321b805d5\" y=\"68.025442\"/>\r\n      </g>\r\n     </g>\r\n     <g id=\"text_12\">\r\n      <!-- 8.0 -->\r\n      <g transform=\"translate(7.2 71.824661)scale(0.1 -0.1)\">\r\n       <use xlink:href=\"#DejaVuSans-56\"/>\r\n       <use x=\"63.623047\" xlink:href=\"#DejaVuSans-46\"/>\r\n       <use x=\"95.410156\" xlink:href=\"#DejaVuSans-48\"/>\r\n      </g>\r\n     </g>\r\n    </g>\r\n    <g id=\"ytick_6\">\r\n     <g id=\"line2d_12\">\r\n      <g>\r\n       <use style=\"stroke:#000000;stroke-width:0.8;\" x=\"30.103125\" xlink:href=\"#md321b805d5\" y=\"33.600301\"/>\r\n      </g>\r\n     </g>\r\n     <g id=\"text_13\">\r\n      <!-- 8.5 -->\r\n      <g transform=\"translate(7.2 37.39952)scale(0.1 -0.1)\">\r\n       <use xlink:href=\"#DejaVuSans-56\"/>\r\n       <use x=\"63.623047\" xlink:href=\"#DejaVuSans-46\"/>\r\n       <use x=\"95.410156\" xlink:href=\"#DejaVuSans-53\"/>\r\n      </g>\r\n     </g>\r\n    </g>\r\n   </g>\r\n   <g id=\"line2d_13\">\r\n    <path clip-path=\"url(#p802d7e824a)\" d=\"M 43.937836 32.201761 \r\nL 71.607257 214.031913 \r\nL 99.276679 226.198854 \r\nL 126.9461 227.48432 \r\nL 154.615522 227.706865 \r\nL 182.284943 227.819241 \r\nL 209.954365 227.472453 \r\nL 237.623786 227.472591 \r\nL 265.293208 227.436228 \r\nL 292.962629 227.488436 \r\nL 320.632051 226.900547 \r\n\" style=\"fill:none;stroke:#1f77b4;stroke-linecap:square;stroke-width:1.5;\"/>\r\n   </g>\r\n   <g id=\"line2d_14\">\r\n    <path clip-path=\"url(#p802d7e824a)\" d=\"M 43.937836 32.220322 \r\nL 71.607257 226.254387 \r\nL 99.276679 229.246373 \r\nL 126.9461 229.775119 \r\nL 154.615522 229.874489 \r\nL 182.284943 229.690312 \r\nL 209.954365 229.741244 \r\nL 237.623786 229.712553 \r\nL 265.293208 229.759638 \r\nL 292.962629 229.367283 \r\nL 320.632051 228.364933 \r\n\" style=\"fill:none;stroke:#ff7f0e;stroke-linecap:square;stroke-width:1.5;\"/>\r\n   </g>\r\n   <g id=\"patch_3\">\r\n    <path d=\"M 30.103125 239.758125 \r\nL 30.103125 22.318125 \r\n\" style=\"fill:none;stroke:#000000;stroke-linecap:square;stroke-linejoin:miter;stroke-width:0.8;\"/>\r\n   </g>\r\n   <g id=\"patch_4\">\r\n    <path d=\"M 334.466761 239.758125 \r\nL 334.466761 22.318125 \r\n\" style=\"fill:none;stroke:#000000;stroke-linecap:square;stroke-linejoin:miter;stroke-width:0.8;\"/>\r\n   </g>\r\n   <g id=\"patch_5\">\r\n    <path d=\"M 30.103125 239.758125 \r\nL 334.466761 239.758125 \r\n\" style=\"fill:none;stroke:#000000;stroke-linecap:square;stroke-linejoin:miter;stroke-width:0.8;\"/>\r\n   </g>\r\n   <g id=\"patch_6\">\r\n    <path d=\"M 30.103125 22.318125 \r\nL 334.466761 22.318125 \r\n\" style=\"fill:none;stroke:#000000;stroke-linecap:square;stroke-linejoin:miter;stroke-width:0.8;\"/>\r\n   </g>\r\n   <g id=\"text_14\">\r\n    <!-- evaluation of losses -->\r\n    <defs>\r\n     <path d=\"M 2.984375 54.6875 \r\nL 12.5 54.6875 \r\nL 29.59375 8.796875 \r\nL 46.6875 54.6875 \r\nL 56.203125 54.6875 \r\nL 35.6875 0 \r\nL 23.484375 0 \r\nz\r\n\" id=\"DejaVuSans-118\"/>\r\n     <path d=\"M 34.28125 27.484375 \r\nQ 23.390625 27.484375 19.1875 25 \r\nQ 14.984375 22.515625 14.984375 16.5 \r\nQ 14.984375 11.71875 18.140625 8.90625 \r\nQ 21.296875 6.109375 26.703125 6.109375 \r\nQ 34.1875 6.109375 38.703125 11.40625 \r\nQ 43.21875 16.703125 43.21875 25.484375 \r\nL 43.21875 27.484375 \r\nz\r\nM 52.203125 31.203125 \r\nL 52.203125 0 \r\nL 43.21875 0 \r\nL 43.21875 8.296875 \r\nQ 40.140625 3.328125 35.546875 0.953125 \r\nQ 30.953125 -1.421875 24.3125 -1.421875 \r\nQ 15.921875 -1.421875 10.953125 3.296875 \r\nQ 6 8.015625 6 15.921875 \r\nQ 6 25.140625 12.171875 29.828125 \r\nQ 18.359375 34.515625 30.609375 34.515625 \r\nL 43.21875 34.515625 \r\nL 43.21875 35.40625 \r\nQ 43.21875 41.609375 39.140625 45 \r\nQ 35.0625 48.390625 27.6875 48.390625 \r\nQ 23 48.390625 18.546875 47.265625 \r\nQ 14.109375 46.140625 10.015625 43.890625 \r\nL 10.015625 52.203125 \r\nQ 14.9375 54.109375 19.578125 55.046875 \r\nQ 24.21875 56 28.609375 56 \r\nQ 40.484375 56 46.34375 49.84375 \r\nQ 52.203125 43.703125 52.203125 31.203125 \r\nz\r\n\" id=\"DejaVuSans-97\"/>\r\n     <path d=\"M 9.421875 75.984375 \r\nL 18.40625 75.984375 \r\nL 18.40625 0 \r\nL 9.421875 0 \r\nz\r\n\" id=\"DejaVuSans-108\"/>\r\n     <path d=\"M 8.5 21.578125 \r\nL 8.5 54.6875 \r\nL 17.484375 54.6875 \r\nL 17.484375 21.921875 \r\nQ 17.484375 14.15625 20.5 10.265625 \r\nQ 23.53125 6.390625 29.59375 6.390625 \r\nQ 36.859375 6.390625 41.078125 11.03125 \r\nQ 45.3125 15.671875 45.3125 23.6875 \r\nL 45.3125 54.6875 \r\nL 54.296875 54.6875 \r\nL 54.296875 0 \r\nL 45.3125 0 \r\nL 45.3125 8.40625 \r\nQ 42.046875 3.421875 37.71875 1 \r\nQ 33.40625 -1.421875 27.6875 -1.421875 \r\nQ 18.265625 -1.421875 13.375 4.4375 \r\nQ 8.5 10.296875 8.5 21.578125 \r\nz\r\nM 31.109375 56 \r\nz\r\n\" id=\"DejaVuSans-117\"/>\r\n     <path d=\"M 18.3125 70.21875 \r\nL 18.3125 54.6875 \r\nL 36.8125 54.6875 \r\nL 36.8125 47.703125 \r\nL 18.3125 47.703125 \r\nL 18.3125 18.015625 \r\nQ 18.3125 11.328125 20.140625 9.421875 \r\nQ 21.96875 7.515625 27.59375 7.515625 \r\nL 36.8125 7.515625 \r\nL 36.8125 0 \r\nL 27.59375 0 \r\nQ 17.1875 0 13.234375 3.875 \r\nQ 9.28125 7.765625 9.28125 18.015625 \r\nL 9.28125 47.703125 \r\nL 2.6875 47.703125 \r\nL 2.6875 54.6875 \r\nL 9.28125 54.6875 \r\nL 9.28125 70.21875 \r\nz\r\n\" id=\"DejaVuSans-116\"/>\r\n     <path d=\"M 9.421875 54.6875 \r\nL 18.40625 54.6875 \r\nL 18.40625 0 \r\nL 9.421875 0 \r\nz\r\nM 9.421875 75.984375 \r\nL 18.40625 75.984375 \r\nL 18.40625 64.59375 \r\nL 9.421875 64.59375 \r\nz\r\n\" id=\"DejaVuSans-105\"/>\r\n     <path d=\"M 54.890625 33.015625 \r\nL 54.890625 0 \r\nL 45.90625 0 \r\nL 45.90625 32.71875 \r\nQ 45.90625 40.484375 42.875 44.328125 \r\nQ 39.84375 48.1875 33.796875 48.1875 \r\nQ 26.515625 48.1875 22.3125 43.546875 \r\nQ 18.109375 38.921875 18.109375 30.90625 \r\nL 18.109375 0 \r\nL 9.078125 0 \r\nL 9.078125 54.6875 \r\nL 18.109375 54.6875 \r\nL 18.109375 46.1875 \r\nQ 21.34375 51.125 25.703125 53.5625 \r\nQ 30.078125 56 35.796875 56 \r\nQ 45.21875 56 50.046875 50.171875 \r\nQ 54.890625 44.34375 54.890625 33.015625 \r\nz\r\n\" id=\"DejaVuSans-110\"/>\r\n     <path id=\"DejaVuSans-32\"/>\r\n     <path d=\"M 37.109375 75.984375 \r\nL 37.109375 68.5 \r\nL 28.515625 68.5 \r\nQ 23.6875 68.5 21.796875 66.546875 \r\nQ 19.921875 64.59375 19.921875 59.515625 \r\nL 19.921875 54.6875 \r\nL 34.71875 54.6875 \r\nL 34.71875 47.703125 \r\nL 19.921875 47.703125 \r\nL 19.921875 0 \r\nL 10.890625 0 \r\nL 10.890625 47.703125 \r\nL 2.296875 47.703125 \r\nL 2.296875 54.6875 \r\nL 10.890625 54.6875 \r\nL 10.890625 58.5 \r\nQ 10.890625 67.625 15.140625 71.796875 \r\nQ 19.390625 75.984375 28.609375 75.984375 \r\nz\r\n\" id=\"DejaVuSans-102\"/>\r\n    </defs>\r\n    <g transform=\"translate(122.721818 16.318125)scale(0.12 -0.12)\">\r\n     <use xlink:href=\"#DejaVuSans-101\"/>\r\n     <use x=\"61.523438\" xlink:href=\"#DejaVuSans-118\"/>\r\n     <use x=\"120.703125\" xlink:href=\"#DejaVuSans-97\"/>\r\n     <use x=\"181.982422\" xlink:href=\"#DejaVuSans-108\"/>\r\n     <use x=\"209.765625\" xlink:href=\"#DejaVuSans-117\"/>\r\n     <use x=\"273.144531\" xlink:href=\"#DejaVuSans-97\"/>\r\n     <use x=\"334.423828\" xlink:href=\"#DejaVuSans-116\"/>\r\n     <use x=\"373.632812\" xlink:href=\"#DejaVuSans-105\"/>\r\n     <use x=\"401.416016\" xlink:href=\"#DejaVuSans-111\"/>\r\n     <use x=\"462.597656\" xlink:href=\"#DejaVuSans-110\"/>\r\n     <use x=\"525.976562\" xlink:href=\"#DejaVuSans-32\"/>\r\n     <use x=\"557.763672\" xlink:href=\"#DejaVuSans-111\"/>\r\n     <use x=\"618.945312\" xlink:href=\"#DejaVuSans-102\"/>\r\n     <use x=\"654.150391\" xlink:href=\"#DejaVuSans-32\"/>\r\n     <use x=\"685.9375\" xlink:href=\"#DejaVuSans-108\"/>\r\n     <use x=\"713.720703\" xlink:href=\"#DejaVuSans-111\"/>\r\n     <use x=\"774.902344\" xlink:href=\"#DejaVuSans-115\"/>\r\n     <use x=\"827.001953\" xlink:href=\"#DejaVuSans-115\"/>\r\n     <use x=\"879.101562\" xlink:href=\"#DejaVuSans-101\"/>\r\n     <use x=\"940.625\" xlink:href=\"#DejaVuSans-115\"/>\r\n    </g>\r\n   </g>\r\n   <g id=\"legend_1\">\r\n    <g id=\"patch_7\">\r\n     <path d=\"M 246.232386 74.3525 \r\nL 327.466761 74.3525 \r\nQ 329.466761 74.3525 329.466761 72.3525 \r\nL 329.466761 29.318125 \r\nQ 329.466761 27.318125 327.466761 27.318125 \r\nL 246.232386 27.318125 \r\nQ 244.232386 27.318125 244.232386 29.318125 \r\nL 244.232386 72.3525 \r\nQ 244.232386 74.3525 246.232386 74.3525 \r\nz\r\n\" style=\"fill:#ffffff;opacity:0.8;stroke:#cccccc;stroke-linejoin:miter;\"/>\r\n    </g>\r\n    <g id=\"line2d_15\">\r\n     <path d=\"M 248.232386 35.416562 \r\nL 268.232386 35.416562 \r\n\" style=\"fill:none;stroke:#1f77b4;stroke-linecap:square;stroke-width:1.5;\"/>\r\n    </g>\r\n    <g id=\"line2d_16\"/>\r\n    <g id=\"text_15\">\r\n     <!-- train -->\r\n     <defs>\r\n      <path d=\"M 41.109375 46.296875 \r\nQ 39.59375 47.171875 37.8125 47.578125 \r\nQ 36.03125 48 33.890625 48 \r\nQ 26.265625 48 22.1875 43.046875 \r\nQ 18.109375 38.09375 18.109375 28.8125 \r\nL 18.109375 0 \r\nL 9.078125 0 \r\nL 9.078125 54.6875 \r\nL 18.109375 54.6875 \r\nL 18.109375 46.1875 \r\nQ 20.953125 51.171875 25.484375 53.578125 \r\nQ 30.03125 56 36.53125 56 \r\nQ 37.453125 56 38.578125 55.875 \r\nQ 39.703125 55.765625 41.0625 55.515625 \r\nz\r\n\" id=\"DejaVuSans-114\"/>\r\n     </defs>\r\n     <g transform=\"translate(276.232386 38.916562)scale(0.1 -0.1)\">\r\n      <use xlink:href=\"#DejaVuSans-116\"/>\r\n      <use x=\"39.208984\" xlink:href=\"#DejaVuSans-114\"/>\r\n      <use x=\"80.322266\" xlink:href=\"#DejaVuSans-97\"/>\r\n      <use x=\"141.601562\" xlink:href=\"#DejaVuSans-105\"/>\r\n      <use x=\"169.384766\" xlink:href=\"#DejaVuSans-110\"/>\r\n     </g>\r\n    </g>\r\n    <g id=\"line2d_17\">\r\n     <path d=\"M 248.232386 50.094687 \r\nL 268.232386 50.094687 \r\n\" style=\"fill:none;stroke:#ff7f0e;stroke-linecap:square;stroke-width:1.5;\"/>\r\n    </g>\r\n    <g id=\"line2d_18\"/>\r\n    <g id=\"text_16\">\r\n     <!-- validation -->\r\n     <defs>\r\n      <path d=\"M 45.40625 46.390625 \r\nL 45.40625 75.984375 \r\nL 54.390625 75.984375 \r\nL 54.390625 0 \r\nL 45.40625 0 \r\nL 45.40625 8.203125 \r\nQ 42.578125 3.328125 38.25 0.953125 \r\nQ 33.9375 -1.421875 27.875 -1.421875 \r\nQ 17.96875 -1.421875 11.734375 6.484375 \r\nQ 5.515625 14.40625 5.515625 27.296875 \r\nQ 5.515625 40.1875 11.734375 48.09375 \r\nQ 17.96875 56 27.875 56 \r\nQ 33.9375 56 38.25 53.625 \r\nQ 42.578125 51.265625 45.40625 46.390625 \r\nz\r\nM 14.796875 27.296875 \r\nQ 14.796875 17.390625 18.875 11.75 \r\nQ 22.953125 6.109375 30.078125 6.109375 \r\nQ 37.203125 6.109375 41.296875 11.75 \r\nQ 45.40625 17.390625 45.40625 27.296875 \r\nQ 45.40625 37.203125 41.296875 42.84375 \r\nQ 37.203125 48.484375 30.078125 48.484375 \r\nQ 22.953125 48.484375 18.875 42.84375 \r\nQ 14.796875 37.203125 14.796875 27.296875 \r\nz\r\n\" id=\"DejaVuSans-100\"/>\r\n     </defs>\r\n     <g transform=\"translate(276.232386 53.594687)scale(0.1 -0.1)\">\r\n      <use xlink:href=\"#DejaVuSans-118\"/>\r\n      <use x=\"59.179688\" xlink:href=\"#DejaVuSans-97\"/>\r\n      <use x=\"120.458984\" xlink:href=\"#DejaVuSans-108\"/>\r\n      <use x=\"148.242188\" xlink:href=\"#DejaVuSans-105\"/>\r\n      <use x=\"176.025391\" xlink:href=\"#DejaVuSans-100\"/>\r\n      <use x=\"239.501953\" xlink:href=\"#DejaVuSans-97\"/>\r\n      <use x=\"300.78125\" xlink:href=\"#DejaVuSans-116\"/>\r\n      <use x=\"339.990234\" xlink:href=\"#DejaVuSans-105\"/>\r\n      <use x=\"367.773438\" xlink:href=\"#DejaVuSans-111\"/>\r\n      <use x=\"428.955078\" xlink:href=\"#DejaVuSans-110\"/>\r\n     </g>\r\n    </g>\r\n    <g id=\"PathCollection_2\">\r\n     <g>\r\n      <use style=\"fill:#ff0000;stroke:#ff0000;\" x=\"258.232386\" xlink:href=\"#m61c8259b3e\" y=\"65.647812\"/>\r\n     </g>\r\n    </g>\r\n    <g id=\"text_17\">\r\n     <!-- minimum -->\r\n     <defs>\r\n      <path d=\"M 52 44.1875 \r\nQ 55.375 50.25 60.0625 53.125 \r\nQ 64.75 56 71.09375 56 \r\nQ 79.640625 56 84.28125 50.015625 \r\nQ 88.921875 44.046875 88.921875 33.015625 \r\nL 88.921875 0 \r\nL 79.890625 0 \r\nL 79.890625 32.71875 \r\nQ 79.890625 40.578125 77.09375 44.375 \r\nQ 74.3125 48.1875 68.609375 48.1875 \r\nQ 61.625 48.1875 57.5625 43.546875 \r\nQ 53.515625 38.921875 53.515625 30.90625 \r\nL 53.515625 0 \r\nL 44.484375 0 \r\nL 44.484375 32.71875 \r\nQ 44.484375 40.625 41.703125 44.40625 \r\nQ 38.921875 48.1875 33.109375 48.1875 \r\nQ 26.21875 48.1875 22.15625 43.53125 \r\nQ 18.109375 38.875 18.109375 30.90625 \r\nL 18.109375 0 \r\nL 9.078125 0 \r\nL 9.078125 54.6875 \r\nL 18.109375 54.6875 \r\nL 18.109375 46.1875 \r\nQ 21.1875 51.21875 25.484375 53.609375 \r\nQ 29.78125 56 35.6875 56 \r\nQ 41.65625 56 45.828125 52.96875 \r\nQ 50 49.953125 52 44.1875 \r\nz\r\n\" id=\"DejaVuSans-109\"/>\r\n     </defs>\r\n     <g transform=\"translate(276.232386 68.272812)scale(0.1 -0.1)\">\r\n      <use xlink:href=\"#DejaVuSans-109\"/>\r\n      <use x=\"97.412109\" xlink:href=\"#DejaVuSans-105\"/>\r\n      <use x=\"125.195312\" xlink:href=\"#DejaVuSans-110\"/>\r\n      <use x=\"188.574219\" xlink:href=\"#DejaVuSans-105\"/>\r\n      <use x=\"216.357422\" xlink:href=\"#DejaVuSans-109\"/>\r\n      <use x=\"313.769531\" xlink:href=\"#DejaVuSans-117\"/>\r\n      <use x=\"377.148438\" xlink:href=\"#DejaVuSans-109\"/>\r\n     </g>\r\n    </g>\r\n   </g>\r\n  </g>\r\n  <g id=\"axes_2\">\r\n   <g id=\"patch_8\">\r\n    <path d=\"M 395.339489 239.758125 \r\nL 699.703125 239.758125 \r\nL 699.703125 22.318125 \r\nL 395.339489 22.318125 \r\nz\r\n\" style=\"fill:#ffffff;\"/>\r\n   </g>\r\n   <g id=\"PathCollection_3\">\r\n    <g clip-path=\"url(#pb717848461)\">\r\n     <use style=\"fill:#ff0000;stroke:#ff0000;\" x=\"575.190728\" xlink:href=\"#m61c8259b3e\" y=\"32.201761\"/>\r\n    </g>\r\n   </g>\r\n   <g id=\"matplotlib.axis_3\">\r\n    <g id=\"xtick_7\">\r\n     <g id=\"line2d_19\">\r\n      <g>\r\n       <use style=\"stroke:#000000;stroke-width:0.8;\" x=\"409.174199\" xlink:href=\"#m4be9e86d96\" y=\"239.758125\"/>\r\n      </g>\r\n     </g>\r\n     <g id=\"text_18\">\r\n      <!-- 0 -->\r\n      <g transform=\"translate(405.992949 254.356562)scale(0.1 -0.1)\">\r\n       <use xlink:href=\"#DejaVuSans-48\"/>\r\n      </g>\r\n     </g>\r\n    </g>\r\n    <g id=\"xtick_8\">\r\n     <g id=\"line2d_20\">\r\n      <g>\r\n       <use style=\"stroke:#000000;stroke-width:0.8;\" x=\"464.513042\" xlink:href=\"#m4be9e86d96\" y=\"239.758125\"/>\r\n      </g>\r\n     </g>\r\n     <g id=\"text_19\">\r\n      <!-- 2 -->\r\n      <g transform=\"translate(461.331792 254.356562)scale(0.1 -0.1)\">\r\n       <use xlink:href=\"#DejaVuSans-50\"/>\r\n      </g>\r\n     </g>\r\n    </g>\r\n    <g id=\"xtick_9\">\r\n     <g id=\"line2d_21\">\r\n      <g>\r\n       <use style=\"stroke:#000000;stroke-width:0.8;\" x=\"519.851885\" xlink:href=\"#m4be9e86d96\" y=\"239.758125\"/>\r\n      </g>\r\n     </g>\r\n     <g id=\"text_20\">\r\n      <!-- 4 -->\r\n      <g transform=\"translate(516.670635 254.356562)scale(0.1 -0.1)\">\r\n       <use xlink:href=\"#DejaVuSans-52\"/>\r\n      </g>\r\n     </g>\r\n    </g>\r\n    <g id=\"xtick_10\">\r\n     <g id=\"line2d_22\">\r\n      <g>\r\n       <use style=\"stroke:#000000;stroke-width:0.8;\" x=\"575.190728\" xlink:href=\"#m4be9e86d96\" y=\"239.758125\"/>\r\n      </g>\r\n     </g>\r\n     <g id=\"text_21\">\r\n      <!-- 6 -->\r\n      <g transform=\"translate(572.009478 254.356562)scale(0.1 -0.1)\">\r\n       <use xlink:href=\"#DejaVuSans-54\"/>\r\n      </g>\r\n     </g>\r\n    </g>\r\n    <g id=\"xtick_11\">\r\n     <g id=\"line2d_23\">\r\n      <g>\r\n       <use style=\"stroke:#000000;stroke-width:0.8;\" x=\"630.529571\" xlink:href=\"#m4be9e86d96\" y=\"239.758125\"/>\r\n      </g>\r\n     </g>\r\n     <g id=\"text_22\">\r\n      <!-- 8 -->\r\n      <g transform=\"translate(627.348321 254.356562)scale(0.1 -0.1)\">\r\n       <use xlink:href=\"#DejaVuSans-56\"/>\r\n      </g>\r\n     </g>\r\n    </g>\r\n    <g id=\"xtick_12\">\r\n     <g id=\"line2d_24\">\r\n      <g>\r\n       <use style=\"stroke:#000000;stroke-width:0.8;\" x=\"685.868414\" xlink:href=\"#m4be9e86d96\" y=\"239.758125\"/>\r\n      </g>\r\n     </g>\r\n     <g id=\"text_23\">\r\n      <!-- 10 -->\r\n      <g transform=\"translate(679.505914 254.356562)scale(0.1 -0.1)\">\r\n       <use xlink:href=\"#DejaVuSans-49\"/>\r\n       <use x=\"63.623047\" xlink:href=\"#DejaVuSans-48\"/>\r\n      </g>\r\n     </g>\r\n    </g>\r\n    <g id=\"text_24\">\r\n     <!-- epochs -->\r\n     <g transform=\"translate(529.688494 268.034687)scale(0.1 -0.1)\">\r\n      <use xlink:href=\"#DejaVuSans-101\"/>\r\n      <use x=\"61.523438\" xlink:href=\"#DejaVuSans-112\"/>\r\n      <use x=\"125\" xlink:href=\"#DejaVuSans-111\"/>\r\n      <use x=\"186.181641\" xlink:href=\"#DejaVuSans-99\"/>\r\n      <use x=\"241.162109\" xlink:href=\"#DejaVuSans-104\"/>\r\n      <use x=\"304.541016\" xlink:href=\"#DejaVuSans-115\"/>\r\n     </g>\r\n    </g>\r\n   </g>\r\n   <g id=\"matplotlib.axis_4\">\r\n    <g id=\"ytick_7\">\r\n     <g id=\"line2d_25\">\r\n      <g>\r\n       <use style=\"stroke:#000000;stroke-width:0.8;\" x=\"395.339489\" xlink:href=\"#md321b805d5\" y=\"230.244384\"/>\r\n      </g>\r\n     </g>\r\n     <g id=\"text_25\">\r\n      <!-- 0.00 -->\r\n      <g transform=\"translate(366.073864 234.043602)scale(0.1 -0.1)\">\r\n       <use xlink:href=\"#DejaVuSans-48\"/>\r\n       <use x=\"63.623047\" xlink:href=\"#DejaVuSans-46\"/>\r\n       <use x=\"95.410156\" xlink:href=\"#DejaVuSans-48\"/>\r\n       <use x=\"159.033203\" xlink:href=\"#DejaVuSans-48\"/>\r\n      </g>\r\n     </g>\r\n    </g>\r\n    <g id=\"ytick_8\">\r\n     <g id=\"line2d_26\">\r\n      <g>\r\n       <use style=\"stroke:#000000;stroke-width:0.8;\" x=\"395.339489\" xlink:href=\"#md321b805d5\" y=\"192.037761\"/>\r\n      </g>\r\n     </g>\r\n     <g id=\"text_26\">\r\n      <!-- 0.02 -->\r\n      <g transform=\"translate(366.073864 195.83698)scale(0.1 -0.1)\">\r\n       <use xlink:href=\"#DejaVuSans-48\"/>\r\n       <use x=\"63.623047\" xlink:href=\"#DejaVuSans-46\"/>\r\n       <use x=\"95.410156\" xlink:href=\"#DejaVuSans-48\"/>\r\n       <use x=\"159.033203\" xlink:href=\"#DejaVuSans-50\"/>\r\n      </g>\r\n     </g>\r\n    </g>\r\n    <g id=\"ytick_9\">\r\n     <g id=\"line2d_27\">\r\n      <g>\r\n       <use style=\"stroke:#000000;stroke-width:0.8;\" x=\"395.339489\" xlink:href=\"#md321b805d5\" y=\"153.831138\"/>\r\n      </g>\r\n     </g>\r\n     <g id=\"text_27\">\r\n      <!-- 0.04 -->\r\n      <g transform=\"translate(366.073864 157.630357)scale(0.1 -0.1)\">\r\n       <use xlink:href=\"#DejaVuSans-48\"/>\r\n       <use x=\"63.623047\" xlink:href=\"#DejaVuSans-46\"/>\r\n       <use x=\"95.410156\" xlink:href=\"#DejaVuSans-48\"/>\r\n       <use x=\"159.033203\" xlink:href=\"#DejaVuSans-52\"/>\r\n      </g>\r\n     </g>\r\n    </g>\r\n    <g id=\"ytick_10\">\r\n     <g id=\"line2d_28\">\r\n      <g>\r\n       <use style=\"stroke:#000000;stroke-width:0.8;\" x=\"395.339489\" xlink:href=\"#md321b805d5\" y=\"115.624515\"/>\r\n      </g>\r\n     </g>\r\n     <g id=\"text_28\">\r\n      <!-- 0.06 -->\r\n      <g transform=\"translate(366.073864 119.423734)scale(0.1 -0.1)\">\r\n       <use xlink:href=\"#DejaVuSans-48\"/>\r\n       <use x=\"63.623047\" xlink:href=\"#DejaVuSans-46\"/>\r\n       <use x=\"95.410156\" xlink:href=\"#DejaVuSans-48\"/>\r\n       <use x=\"159.033203\" xlink:href=\"#DejaVuSans-54\"/>\r\n      </g>\r\n     </g>\r\n    </g>\r\n    <g id=\"ytick_11\">\r\n     <g id=\"line2d_29\">\r\n      <g>\r\n       <use style=\"stroke:#000000;stroke-width:0.8;\" x=\"395.339489\" xlink:href=\"#md321b805d5\" y=\"77.417892\"/>\r\n      </g>\r\n     </g>\r\n     <g id=\"text_29\">\r\n      <!-- 0.08 -->\r\n      <g transform=\"translate(366.073864 81.217111)scale(0.1 -0.1)\">\r\n       <use xlink:href=\"#DejaVuSans-48\"/>\r\n       <use x=\"63.623047\" xlink:href=\"#DejaVuSans-46\"/>\r\n       <use x=\"95.410156\" xlink:href=\"#DejaVuSans-48\"/>\r\n       <use x=\"159.033203\" xlink:href=\"#DejaVuSans-56\"/>\r\n      </g>\r\n     </g>\r\n    </g>\r\n    <g id=\"ytick_12\">\r\n     <g id=\"line2d_30\">\r\n      <g>\r\n       <use style=\"stroke:#000000;stroke-width:0.8;\" x=\"395.339489\" xlink:href=\"#md321b805d5\" y=\"39.21127\"/>\r\n      </g>\r\n     </g>\r\n     <g id=\"text_30\">\r\n      <!-- 0.10 -->\r\n      <g transform=\"translate(366.073864 43.010488)scale(0.1 -0.1)\">\r\n       <use xlink:href=\"#DejaVuSans-48\"/>\r\n       <use x=\"63.623047\" xlink:href=\"#DejaVuSans-46\"/>\r\n       <use x=\"95.410156\" xlink:href=\"#DejaVuSans-49\"/>\r\n       <use x=\"159.033203\" xlink:href=\"#DejaVuSans-48\"/>\r\n      </g>\r\n     </g>\r\n    </g>\r\n   </g>\r\n   <g id=\"line2d_31\">\r\n    <path clip-path=\"url(#pb717848461)\" d=\"M 409.174199 229.841455 \r\nL 436.843621 78.56911 \r\nL 464.513042 43.879502 \r\nL 492.182464 39.91569 \r\nL 519.851885 40.392157 \r\nL 547.521307 40.19221 \r\nL 575.190728 41.025258 \r\nL 602.86015 41.323427 \r\nL 630.529571 43.293242 \r\nL 658.198993 43.372819 \r\nL 685.868414 44.991589 \r\n\" style=\"fill:none;stroke:#1f77b4;stroke-linecap:square;stroke-width:1.5;\"/>\r\n   </g>\r\n   <g id=\"line2d_32\">\r\n    <path clip-path=\"url(#pb717848461)\" d=\"M 409.174199 229.874489 \r\nL 436.843621 50.756825 \r\nL 464.513042 34.678445 \r\nL 492.182464 34.435201 \r\nL 519.851885 36.600294 \r\nL 547.521307 35.257418 \r\nL 575.190728 32.201761 \r\nL 602.86015 37.730087 \r\nL 630.529571 36.608336 \r\nL 658.198993 37.577295 \r\nL 685.868414 39.085019 \r\n\" style=\"fill:none;stroke:#ff7f0e;stroke-linecap:square;stroke-width:1.5;\"/>\r\n   </g>\r\n   <g id=\"patch_9\">\r\n    <path d=\"M 395.339489 239.758125 \r\nL 395.339489 22.318125 \r\n\" style=\"fill:none;stroke:#000000;stroke-linecap:square;stroke-linejoin:miter;stroke-width:0.8;\"/>\r\n   </g>\r\n   <g id=\"patch_10\">\r\n    <path d=\"M 699.703125 239.758125 \r\nL 699.703125 22.318125 \r\n\" style=\"fill:none;stroke:#000000;stroke-linecap:square;stroke-linejoin:miter;stroke-width:0.8;\"/>\r\n   </g>\r\n   <g id=\"patch_11\">\r\n    <path d=\"M 395.339489 239.758125 \r\nL 699.703125 239.758125 \r\n\" style=\"fill:none;stroke:#000000;stroke-linecap:square;stroke-linejoin:miter;stroke-width:0.8;\"/>\r\n   </g>\r\n   <g id=\"patch_12\">\r\n    <path d=\"M 395.339489 22.318125 \r\nL 699.703125 22.318125 \r\n\" style=\"fill:none;stroke:#000000;stroke-linecap:square;stroke-linejoin:miter;stroke-width:0.8;\"/>\r\n   </g>\r\n   <g id=\"text_31\">\r\n    <!-- evaluation of accuracy -->\r\n    <defs>\r\n     <path d=\"M 32.171875 -5.078125 \r\nQ 28.375 -14.84375 24.75 -17.8125 \r\nQ 21.140625 -20.796875 15.09375 -20.796875 \r\nL 7.90625 -20.796875 \r\nL 7.90625 -13.28125 \r\nL 13.1875 -13.28125 \r\nQ 16.890625 -13.28125 18.9375 -11.515625 \r\nQ 21 -9.765625 23.484375 -3.21875 \r\nL 25.09375 0.875 \r\nL 2.984375 54.6875 \r\nL 12.5 54.6875 \r\nL 29.59375 11.921875 \r\nL 46.6875 54.6875 \r\nL 56.203125 54.6875 \r\nz\r\n\" id=\"DejaVuSans-121\"/>\r\n    </defs>\r\n    <g transform=\"translate(479.293807 16.318125)scale(0.12 -0.12)\">\r\n     <use xlink:href=\"#DejaVuSans-101\"/>\r\n     <use x=\"61.523438\" xlink:href=\"#DejaVuSans-118\"/>\r\n     <use x=\"120.703125\" xlink:href=\"#DejaVuSans-97\"/>\r\n     <use x=\"181.982422\" xlink:href=\"#DejaVuSans-108\"/>\r\n     <use x=\"209.765625\" xlink:href=\"#DejaVuSans-117\"/>\r\n     <use x=\"273.144531\" xlink:href=\"#DejaVuSans-97\"/>\r\n     <use x=\"334.423828\" xlink:href=\"#DejaVuSans-116\"/>\r\n     <use x=\"373.632812\" xlink:href=\"#DejaVuSans-105\"/>\r\n     <use x=\"401.416016\" xlink:href=\"#DejaVuSans-111\"/>\r\n     <use x=\"462.597656\" xlink:href=\"#DejaVuSans-110\"/>\r\n     <use x=\"525.976562\" xlink:href=\"#DejaVuSans-32\"/>\r\n     <use x=\"557.763672\" xlink:href=\"#DejaVuSans-111\"/>\r\n     <use x=\"618.945312\" xlink:href=\"#DejaVuSans-102\"/>\r\n     <use x=\"654.150391\" xlink:href=\"#DejaVuSans-32\"/>\r\n     <use x=\"685.9375\" xlink:href=\"#DejaVuSans-97\"/>\r\n     <use x=\"747.216797\" xlink:href=\"#DejaVuSans-99\"/>\r\n     <use x=\"802.197266\" xlink:href=\"#DejaVuSans-99\"/>\r\n     <use x=\"857.177734\" xlink:href=\"#DejaVuSans-117\"/>\r\n     <use x=\"920.556641\" xlink:href=\"#DejaVuSans-114\"/>\r\n     <use x=\"961.669922\" xlink:href=\"#DejaVuSans-97\"/>\r\n     <use x=\"1022.949219\" xlink:href=\"#DejaVuSans-99\"/>\r\n     <use x=\"1077.929688\" xlink:href=\"#DejaVuSans-121\"/>\r\n    </g>\r\n   </g>\r\n   <g id=\"legend_2\">\r\n    <g id=\"patch_13\">\r\n     <path d=\"M 610.31875 234.758125 \r\nL 692.703125 234.758125 \r\nQ 694.703125 234.758125 694.703125 232.758125 \r\nL 694.703125 189.72375 \r\nQ 694.703125 187.72375 692.703125 187.72375 \r\nL 610.31875 187.72375 \r\nQ 608.31875 187.72375 608.31875 189.72375 \r\nL 608.31875 232.758125 \r\nQ 608.31875 234.758125 610.31875 234.758125 \r\nz\r\n\" style=\"fill:#ffffff;opacity:0.8;stroke:#cccccc;stroke-linejoin:miter;\"/>\r\n    </g>\r\n    <g id=\"line2d_33\">\r\n     <path d=\"M 612.31875 195.822187 \r\nL 632.31875 195.822187 \r\n\" style=\"fill:none;stroke:#1f77b4;stroke-linecap:square;stroke-width:1.5;\"/>\r\n    </g>\r\n    <g id=\"line2d_34\"/>\r\n    <g id=\"text_32\">\r\n     <!-- train -->\r\n     <g transform=\"translate(640.31875 199.322187)scale(0.1 -0.1)\">\r\n      <use xlink:href=\"#DejaVuSans-116\"/>\r\n      <use x=\"39.208984\" xlink:href=\"#DejaVuSans-114\"/>\r\n      <use x=\"80.322266\" xlink:href=\"#DejaVuSans-97\"/>\r\n      <use x=\"141.601562\" xlink:href=\"#DejaVuSans-105\"/>\r\n      <use x=\"169.384766\" xlink:href=\"#DejaVuSans-110\"/>\r\n     </g>\r\n    </g>\r\n    <g id=\"line2d_35\">\r\n     <path d=\"M 612.31875 210.500312 \r\nL 632.31875 210.500312 \r\n\" style=\"fill:none;stroke:#ff7f0e;stroke-linecap:square;stroke-width:1.5;\"/>\r\n    </g>\r\n    <g id=\"line2d_36\"/>\r\n    <g id=\"text_33\">\r\n     <!-- validation -->\r\n     <g transform=\"translate(640.31875 214.000312)scale(0.1 -0.1)\">\r\n      <use xlink:href=\"#DejaVuSans-118\"/>\r\n      <use x=\"59.179688\" xlink:href=\"#DejaVuSans-97\"/>\r\n      <use x=\"120.458984\" xlink:href=\"#DejaVuSans-108\"/>\r\n      <use x=\"148.242188\" xlink:href=\"#DejaVuSans-105\"/>\r\n      <use x=\"176.025391\" xlink:href=\"#DejaVuSans-100\"/>\r\n      <use x=\"239.501953\" xlink:href=\"#DejaVuSans-97\"/>\r\n      <use x=\"300.78125\" xlink:href=\"#DejaVuSans-116\"/>\r\n      <use x=\"339.990234\" xlink:href=\"#DejaVuSans-105\"/>\r\n      <use x=\"367.773438\" xlink:href=\"#DejaVuSans-111\"/>\r\n      <use x=\"428.955078\" xlink:href=\"#DejaVuSans-110\"/>\r\n     </g>\r\n    </g>\r\n    <g id=\"PathCollection_4\">\r\n     <g>\r\n      <use style=\"fill:#ff0000;stroke:#ff0000;\" x=\"622.31875\" xlink:href=\"#m61c8259b3e\" y=\"226.053437\"/>\r\n     </g>\r\n    </g>\r\n    <g id=\"text_34\">\r\n     <!-- maximum -->\r\n     <defs>\r\n      <path d=\"M 54.890625 54.6875 \r\nL 35.109375 28.078125 \r\nL 55.90625 0 \r\nL 45.3125 0 \r\nL 29.390625 21.484375 \r\nL 13.484375 0 \r\nL 2.875 0 \r\nL 24.125 28.609375 \r\nL 4.6875 54.6875 \r\nL 15.28125 54.6875 \r\nL 29.78125 35.203125 \r\nL 44.28125 54.6875 \r\nz\r\n\" id=\"DejaVuSans-120\"/>\r\n     </defs>\r\n     <g transform=\"translate(640.31875 228.678437)scale(0.1 -0.1)\">\r\n      <use xlink:href=\"#DejaVuSans-109\"/>\r\n      <use x=\"97.412109\" xlink:href=\"#DejaVuSans-97\"/>\r\n      <use x=\"158.691406\" xlink:href=\"#DejaVuSans-120\"/>\r\n      <use x=\"217.871094\" xlink:href=\"#DejaVuSans-105\"/>\r\n      <use x=\"245.654297\" xlink:href=\"#DejaVuSans-109\"/>\r\n      <use x=\"343.066406\" xlink:href=\"#DejaVuSans-117\"/>\r\n      <use x=\"406.445312\" xlink:href=\"#DejaVuSans-109\"/>\r\n     </g>\r\n    </g>\r\n   </g>\r\n  </g>\r\n </g>\r\n <defs>\r\n  <clipPath id=\"p802d7e824a\">\r\n   <rect height=\"217.44\" width=\"304.363636\" x=\"30.103125\" y=\"22.318125\"/>\r\n  </clipPath>\r\n  <clipPath id=\"pb717848461\">\r\n   <rect height=\"217.44\" width=\"304.363636\" x=\"395.339489\" y=\"22.318125\"/>\r\n  </clipPath>\r\n </defs>\r\n</svg>\r\n",
      "image/png": "[encoded data removed]"
     },
     "metadata": {
      "needs_background": "light"
     }
    }
   ],
   "source": [
    "eval_train3, eval_valid3 = fit(model3, train_loader, valid_loader, optimizer3, criterion, scheduler3)\n",
    "plot_eval(eval_train3, eval_valid3)"
   ]
  },
  {
   "cell_type": "markdown",
   "metadata": {},
   "source": [
    "## Generating sentences"
   ]
  },
  {
   "cell_type": "code",
   "execution_count": 27,
   "metadata": {},
   "outputs": [],
   "source": [
    "def gen(model, sentence, iterations=10):\n",
    "\n",
    "    sequences = tokenizer.texts_to_sequences([sentence])\n",
    "    seq = [item for sublist in sequences for item in sublist] # tokenized words\n",
    "    if(len(seq) < train_len): return -1\n",
    "    \n",
    "    for i in range(iterations):\n",
    "        iput = np.array(seq[-19:])\n",
    "        iput = np.vstack(iput).T\n",
    "        iput = torch.from_numpy(iput).type(X_type)\n",
    "\n",
    "        # oput = F.log_softmax( model(iput) )  # prob dist\n",
    "        oput = model(iput)\n",
    "        \n",
    "        oput = oput.cpu().detach().numpy()[0]\n",
    "        # print(np.average(oput))\n",
    "        oput = np.argmax(oput) # one-hot to long\n",
    "        seq.append(oput)\n",
    "\n",
    "    pred_sen = ''\n",
    "    for tk in seq:\n",
    "        pred_sen += reverse_word_map[tk] + ' '\n",
    "    return pred_sen\n"
   ]
  },
  {
   "cell_type": "code",
   "execution_count": 28,
   "metadata": {
    "tags": []
   },
   "outputs": [
    {
     "output_type": "stream",
     "name": "stdout",
     "text": "calls on member states in the light of the growing risks which the european union is running in terms of energy security jesus healthy exciting backwards backwards cocaine backwards japanese lanes dinosaurs \ncalls on member states in the light of the growing risks which the european union is running in terms of energy security and the of the the of the of the of \n"
    }
   ],
   "source": [
    "sen = \"Calls on Member States, in the light of the growing risks which the European Union is running in terms of energy security\"\n",
    "print(gen(model1, sen))\n",
    "print(gen(model3, sen))"
   ]
  },
  {
   "cell_type": "code",
   "execution_count": null,
   "metadata": {},
   "outputs": [],
   "source": []
  }
 ],
 "metadata": {
  "language_info": {
   "codemirror_mode": {
    "name": "ipython",
    "version": 3
   },
   "file_extension": ".py",
   "mimetype": "text/x-python",
   "name": "python",
   "nbconvert_exporter": "python",
   "pygments_lexer": "ipython3",
   "version": "3.7.7-final"
  },
  "orig_nbformat": 2,
  "kernelspec": {
   "name": "python_defaultSpec_1594984083547",
   "display_name": "Python 3.7.7 64-bit ('tensorflow-envi': conda)"
  }
 },
 "nbformat": 4,
 "nbformat_minor": 2
}